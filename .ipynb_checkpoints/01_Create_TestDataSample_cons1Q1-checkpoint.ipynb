{
 "cells": [
  {
   "cell_type": "markdown",
   "metadata": {},
   "source": [
    "### Create stratified-random sample to use as Test Data\n",
    "\n",
    "In this script, we aim to use stratified sampling (rather than random sampling) to create a testing set for classification that reflects the distribution of the original dataset.\n",
    "\n",
    "Steps:\n",
    "- Explore the distribution of respondents according to main characteristics.\n",
    "- Calculate VADER-based sentiment polarity scores\n",
    "- Create stratified random sample to use as test data\n",
    "- Add TextBlob sentiment polarity scores\n",
    "- Compare results"
   ]
  },
  {
   "cell_type": "markdown",
   "metadata": {},
   "source": [
    "### 1. Imports and Set Up"
   ]
  },
  {
   "cell_type": "code",
   "execution_count": 107,
   "metadata": {
    "collapsed": true
   },
   "outputs": [],
   "source": [
    "import os\n",
    "import pandas as pd\n",
    "import numpy as np\n",
    "import matplotlib.pyplot as plt\n",
    "import seaborn as sns"
   ]
  },
  {
   "cell_type": "code",
   "execution_count": 108,
   "metadata": {
    "collapsed": true
   },
   "outputs": [],
   "source": [
    "#### Set up working directory\n",
    "\n",
    "cwd = os.chdir('/Users/alessia/Documents/DataScience/NLP_Project/Outputs')"
   ]
  },
  {
   "cell_type": "code",
   "execution_count": 109,
   "metadata": {
    "collapsed": true
   },
   "outputs": [],
   "source": [
    "pd.set_option('display.max_colwidth', -1)"
   ]
  },
  {
   "cell_type": "markdown",
   "metadata": {},
   "source": [
    "### 2. Get Data"
   ]
  },
  {
   "cell_type": "code",
   "execution_count": 110,
   "metadata": {},
   "outputs": [],
   "source": [
    "# Read in data (note header is spread over two rows)\n",
    "\n",
    "cons1_df = pd.read_csv(\"cons1_df.csv\")"
   ]
  },
  {
   "cell_type": "code",
   "execution_count": 111,
   "metadata": {
    "collapsed": true
   },
   "outputs": [],
   "source": [
    "# Explore data\n",
    "\n",
    "#[print(str(num) + ' = ' + question) for num, question in enumerate(cons1_df.columns)]"
   ]
  },
  {
   "cell_type": "markdown",
   "metadata": {
    "collapsed": true
   },
   "source": [
    "Key characteristics seem to be in columns:\n",
    "- 10 organisation vs. individual\n",
    "- 18 Public sector (also check 19)\n",
    "- 20 Private sector (also check 21)\n",
    "- 22 Other sectors\n",
    "\n",
    "Secondary characteristics we may want to look at:\n",
    "- 24-39 Type of use of pop and housing statstics"
   ]
  },
  {
   "cell_type": "markdown",
   "metadata": {},
   "source": [
    "### 3. Explore distribution of main characteristics"
   ]
  },
  {
   "cell_type": "code",
   "execution_count": 112,
   "metadata": {
    "scrolled": true
   },
   "outputs": [
    {
     "name": "stdout",
     "output_type": "stream",
     "text": [
      "Number of NaN: 23\n",
      "Individual      811\n",
      "Organisation    274\n",
      "Name: Are you responding on behalf of an organisation, or as an individual?Response, dtype: int64\n"
     ]
    }
   ],
   "source": [
    "# 10 = Are you responding on behalf of an organisation, or as an individual?Response\n",
    "\n",
    "print(\"Number of NaN: {}\".format(cons1_df.iloc[:, 10].isnull().sum()))\n",
    "print(cons1_df.iloc[:, 10].value_counts())"
   ]
  },
  {
   "cell_type": "code",
   "execution_count": 113,
   "metadata": {
    "collapsed": true
   },
   "outputs": [],
   "source": [
    "# 18 Public Sector\n",
    "#print(\"Number of NaN in Public sector: {}\".format(cons1_df.iloc[:, 18].isnull().sum()))\n",
    "#print(cons1_df.iloc[:, 18].value_counts())\n",
    "\n",
    "# 19 Public Sector\n",
    "#print(\"Number of other Public sectors: {}\".format(cons1_df.iloc[:, 19].count()))\n",
    "#print(cons1_df.iloc[:, 19].value_counts())\n",
    "\n",
    "\n",
    "# Could combine this into one variable call \"Public Sector\" (1 / 0) and another one \"Public sector type\" \n",
    "#(Local or sub-national government, Central government department or agency, University, Health, School or college, Other)"
   ]
  },
  {
   "cell_type": "code",
   "execution_count": 114,
   "metadata": {
    "collapsed": true
   },
   "outputs": [],
   "source": [
    "# 20 Private Sector\n",
    "#print(\"Number of NaN in Private Sector: {}\".format(cons1_df.iloc[:, 20].isnull().sum()))\n",
    "#print(cons1_df.iloc[:, 20].value_counts())\n",
    "\n",
    "# 21 Private Sector\n",
    "#print(\"Number of other Private sectors: {}\".format(cons1_df.iloc[:, 21].count()))\n",
    "#print(cons1_df.iloc[:, 21].value_counts())\n"
   ]
  },
  {
   "cell_type": "code",
   "execution_count": 115,
   "metadata": {},
   "outputs": [
    {
     "name": "stdout",
     "output_type": "stream",
     "text": [
      "Number of NaN: 1051\n",
      "Voluntary / Community / Non-profit    51\n",
      "Media                                 6 \n",
      "Name: Other sectorsResponse, dtype: int64\n"
     ]
    }
   ],
   "source": [
    "# 18 Other Sectors\n",
    "print(\"Number of NaN: {}\".format(cons1_df.iloc[:, 22].isnull().sum()))\n",
    "print(cons1_df.iloc[:, 22].value_counts())"
   ]
  },
  {
   "cell_type": "code",
   "execution_count": 116,
   "metadata": {
    "collapsed": true
   },
   "outputs": [],
   "source": [
    "# Create a new dummy variable that tracks whether the record reported to be from Public Sector\n",
    "\n",
    "cond_PubSec = cons1_df.iloc[:,18].notnull() | cons1_df.iloc[:,19].notnull()\n",
    "\n",
    "cons1_df['PublicSector'] = [int(val) for val in cond_PubSec]"
   ]
  },
  {
   "cell_type": "code",
   "execution_count": 117,
   "metadata": {
    "scrolled": true
   },
   "outputs": [
    {
     "data": {
      "text/html": [
       "<div>\n",
       "<style>\n",
       "    .dataframe thead tr:only-child th {\n",
       "        text-align: right;\n",
       "    }\n",
       "\n",
       "    .dataframe thead th {\n",
       "        text-align: left;\n",
       "    }\n",
       "\n",
       "    .dataframe tbody tr th {\n",
       "        vertical-align: top;\n",
       "    }\n",
       "</style>\n",
       "<table border=\"1\" class=\"dataframe\">\n",
       "  <thead>\n",
       "    <tr style=\"text-align: right;\">\n",
       "      <th></th>\n",
       "      <th>Public sectorResponse</th>\n",
       "      <th>Public sectorOther public sector (please specify)</th>\n",
       "      <th>PublicSector</th>\n",
       "    </tr>\n",
       "  </thead>\n",
       "  <tbody>\n",
       "    <tr>\n",
       "      <th>0</th>\n",
       "      <td>NaN</td>\n",
       "      <td>NaN</td>\n",
       "      <td>0</td>\n",
       "    </tr>\n",
       "    <tr>\n",
       "      <th>1</th>\n",
       "      <td>NaN</td>\n",
       "      <td>NaN</td>\n",
       "      <td>0</td>\n",
       "    </tr>\n",
       "    <tr>\n",
       "      <th>2</th>\n",
       "      <td>NaN</td>\n",
       "      <td>NaN</td>\n",
       "      <td>0</td>\n",
       "    </tr>\n",
       "    <tr>\n",
       "      <th>3</th>\n",
       "      <td>NaN</td>\n",
       "      <td>NaN</td>\n",
       "      <td>0</td>\n",
       "    </tr>\n",
       "    <tr>\n",
       "      <th>4</th>\n",
       "      <td>Local or sub-national government</td>\n",
       "      <td>NaN</td>\n",
       "      <td>1</td>\n",
       "    </tr>\n",
       "  </tbody>\n",
       "</table>\n",
       "</div>"
      ],
      "text/plain": [
       "              Public sectorResponse  \\\n",
       "0  NaN                                \n",
       "1  NaN                                \n",
       "2  NaN                                \n",
       "3  NaN                                \n",
       "4  Local or sub-national government   \n",
       "\n",
       "  Public sectorOther public sector (please specify)  PublicSector  \n",
       "0  NaN                                               0             \n",
       "1  NaN                                               0             \n",
       "2  NaN                                               0             \n",
       "3  NaN                                               0             \n",
       "4  NaN                                               1             "
      ]
     },
     "execution_count": 117,
     "metadata": {},
     "output_type": "execute_result"
    }
   ],
   "source": [
    "# check\n",
    "cons1_df.iloc[:, [18, 19, -1]].head()"
   ]
  },
  {
   "cell_type": "code",
   "execution_count": 118,
   "metadata": {
    "collapsed": true
   },
   "outputs": [],
   "source": [
    "# Create a new dummy variable that tracks whether the record reported to be from Private Sector\n",
    "\n",
    "cond_PrvSec = cons1_df.iloc[:,20].notnull() | cons1_df.iloc[:,21].notnull()\n",
    "\n",
    "cons1_df['PrivateSector'] = [int(val) for val in cond_PrvSec]"
   ]
  },
  {
   "cell_type": "code",
   "execution_count": 119,
   "metadata": {
    "scrolled": true
   },
   "outputs": [
    {
     "data": {
      "text/html": [
       "<div>\n",
       "<style>\n",
       "    .dataframe thead tr:only-child th {\n",
       "        text-align: right;\n",
       "    }\n",
       "\n",
       "    .dataframe thead th {\n",
       "        text-align: left;\n",
       "    }\n",
       "\n",
       "    .dataframe tbody tr th {\n",
       "        vertical-align: top;\n",
       "    }\n",
       "</style>\n",
       "<table border=\"1\" class=\"dataframe\">\n",
       "  <thead>\n",
       "    <tr style=\"text-align: right;\">\n",
       "      <th></th>\n",
       "      <th>Private sectorResponse</th>\n",
       "      <th>Private sectorOther private sector (please specify)</th>\n",
       "      <th>PrivateSector</th>\n",
       "    </tr>\n",
       "  </thead>\n",
       "  <tbody>\n",
       "    <tr>\n",
       "      <th>0</th>\n",
       "      <td>NaN</td>\n",
       "      <td>NaN</td>\n",
       "      <td>0</td>\n",
       "    </tr>\n",
       "    <tr>\n",
       "      <th>1</th>\n",
       "      <td>NaN</td>\n",
       "      <td>NaN</td>\n",
       "      <td>0</td>\n",
       "    </tr>\n",
       "    <tr>\n",
       "      <th>2</th>\n",
       "      <td>NaN</td>\n",
       "      <td>NaN</td>\n",
       "      <td>0</td>\n",
       "    </tr>\n",
       "    <tr>\n",
       "      <th>3</th>\n",
       "      <td>NaN</td>\n",
       "      <td>Market Research</td>\n",
       "      <td>1</td>\n",
       "    </tr>\n",
       "    <tr>\n",
       "      <th>4</th>\n",
       "      <td>NaN</td>\n",
       "      <td>NaN</td>\n",
       "      <td>0</td>\n",
       "    </tr>\n",
       "  </tbody>\n",
       "</table>\n",
       "</div>"
      ],
      "text/plain": [
       "  Private sectorResponse Private sectorOther private sector (please specify)  \\\n",
       "0  NaN                    NaN                                                  \n",
       "1  NaN                    NaN                                                  \n",
       "2  NaN                    NaN                                                  \n",
       "3  NaN                    Market Research                                      \n",
       "4  NaN                    NaN                                                  \n",
       "\n",
       "   PrivateSector  \n",
       "0  0              \n",
       "1  0              \n",
       "2  0              \n",
       "3  1              \n",
       "4  0              "
      ]
     },
     "execution_count": 119,
     "metadata": {},
     "output_type": "execute_result"
    }
   ],
   "source": [
    "# check\n",
    "cons1_df.iloc[:, [20, 21, -1]].head()"
   ]
  },
  {
   "cell_type": "code",
   "execution_count": 120,
   "metadata": {
    "collapsed": true
   },
   "outputs": [],
   "source": [
    "# Create a new dummy variable that tracks whether the record reported to be from Other Sectors (neither Public nor Public)\n",
    "\n",
    "cond_OthSec = cons1_df.iloc[:,22].notnull()\n",
    "\n",
    "cons1_df['OtherSectors'] = [int(val) for val in cond_OthSec]"
   ]
  },
  {
   "cell_type": "code",
   "execution_count": 121,
   "metadata": {},
   "outputs": [
    {
     "data": {
      "text/html": [
       "<div>\n",
       "<style>\n",
       "    .dataframe thead tr:only-child th {\n",
       "        text-align: right;\n",
       "    }\n",
       "\n",
       "    .dataframe thead th {\n",
       "        text-align: left;\n",
       "    }\n",
       "\n",
       "    .dataframe tbody tr th {\n",
       "        vertical-align: top;\n",
       "    }\n",
       "</style>\n",
       "<table border=\"1\" class=\"dataframe\">\n",
       "  <thead>\n",
       "    <tr style=\"text-align: right;\">\n",
       "      <th></th>\n",
       "      <th>Other sectorsResponse</th>\n",
       "      <th>OtherSectors</th>\n",
       "    </tr>\n",
       "  </thead>\n",
       "  <tbody>\n",
       "    <tr>\n",
       "      <th>0</th>\n",
       "      <td>NaN</td>\n",
       "      <td>0</td>\n",
       "    </tr>\n",
       "    <tr>\n",
       "      <th>1</th>\n",
       "      <td>NaN</td>\n",
       "      <td>0</td>\n",
       "    </tr>\n",
       "    <tr>\n",
       "      <th>2</th>\n",
       "      <td>NaN</td>\n",
       "      <td>0</td>\n",
       "    </tr>\n",
       "    <tr>\n",
       "      <th>3</th>\n",
       "      <td>NaN</td>\n",
       "      <td>0</td>\n",
       "    </tr>\n",
       "    <tr>\n",
       "      <th>4</th>\n",
       "      <td>NaN</td>\n",
       "      <td>0</td>\n",
       "    </tr>\n",
       "    <tr>\n",
       "      <th>5</th>\n",
       "      <td>Voluntary / Community / Non-profit</td>\n",
       "      <td>1</td>\n",
       "    </tr>\n",
       "    <tr>\n",
       "      <th>6</th>\n",
       "      <td>NaN</td>\n",
       "      <td>0</td>\n",
       "    </tr>\n",
       "    <tr>\n",
       "      <th>7</th>\n",
       "      <td>NaN</td>\n",
       "      <td>0</td>\n",
       "    </tr>\n",
       "    <tr>\n",
       "      <th>8</th>\n",
       "      <td>NaN</td>\n",
       "      <td>0</td>\n",
       "    </tr>\n",
       "    <tr>\n",
       "      <th>9</th>\n",
       "      <td>NaN</td>\n",
       "      <td>0</td>\n",
       "    </tr>\n",
       "  </tbody>\n",
       "</table>\n",
       "</div>"
      ],
      "text/plain": [
       "                Other sectorsResponse  OtherSectors\n",
       "0  NaN                                 0           \n",
       "1  NaN                                 0           \n",
       "2  NaN                                 0           \n",
       "3  NaN                                 0           \n",
       "4  NaN                                 0           \n",
       "5  Voluntary / Community / Non-profit  1           \n",
       "6  NaN                                 0           \n",
       "7  NaN                                 0           \n",
       "8  NaN                                 0           \n",
       "9  NaN                                 0           "
      ]
     },
     "execution_count": 121,
     "metadata": {},
     "output_type": "execute_result"
    }
   ],
   "source": [
    "# check\n",
    "cons1_df.iloc[:, [22, -1]].head(10)"
   ]
  },
  {
   "cell_type": "code",
   "execution_count": 122,
   "metadata": {},
   "outputs": [
    {
     "data": {
      "text/html": [
       "<div>\n",
       "<style>\n",
       "    .dataframe thead tr:only-child th {\n",
       "        text-align: right;\n",
       "    }\n",
       "\n",
       "    .dataframe thead th {\n",
       "        text-align: left;\n",
       "    }\n",
       "\n",
       "    .dataframe tbody tr th {\n",
       "        vertical-align: top;\n",
       "    }\n",
       "</style>\n",
       "<table border=\"1\" class=\"dataframe\">\n",
       "  <thead>\n",
       "    <tr style=\"text-align: right;\">\n",
       "      <th></th>\n",
       "      <th>OtherSectors</th>\n",
       "      <th>0</th>\n",
       "      <th>1</th>\n",
       "      <th>All</th>\n",
       "    </tr>\n",
       "    <tr>\n",
       "      <th>PublicSector</th>\n",
       "      <th>PrivateSector</th>\n",
       "      <th></th>\n",
       "      <th></th>\n",
       "      <th></th>\n",
       "    </tr>\n",
       "  </thead>\n",
       "  <tbody>\n",
       "    <tr>\n",
       "      <th rowspan=\"2\" valign=\"top\">0</th>\n",
       "      <th>0</th>\n",
       "      <td>849</td>\n",
       "      <td>53</td>\n",
       "      <td>902</td>\n",
       "    </tr>\n",
       "    <tr>\n",
       "      <th>1</th>\n",
       "      <td>22</td>\n",
       "      <td>1</td>\n",
       "      <td>23</td>\n",
       "    </tr>\n",
       "    <tr>\n",
       "      <th rowspan=\"2\" valign=\"top\">1</th>\n",
       "      <th>0</th>\n",
       "      <td>177</td>\n",
       "      <td>1</td>\n",
       "      <td>178</td>\n",
       "    </tr>\n",
       "    <tr>\n",
       "      <th>1</th>\n",
       "      <td>3</td>\n",
       "      <td>2</td>\n",
       "      <td>5</td>\n",
       "    </tr>\n",
       "    <tr>\n",
       "      <th>All</th>\n",
       "      <th></th>\n",
       "      <td>1051</td>\n",
       "      <td>57</td>\n",
       "      <td>1108</td>\n",
       "    </tr>\n",
       "  </tbody>\n",
       "</table>\n",
       "</div>"
      ],
      "text/plain": [
       "OtherSectors                   0   1   All\n",
       "PublicSector PrivateSector                \n",
       "0            0              849   53  902 \n",
       "             1              22    1   23  \n",
       "1            0              177   1   178 \n",
       "             1              3     2   5   \n",
       "All                         1051  57  1108"
      ]
     },
     "execution_count": 122,
     "metadata": {},
     "output_type": "execute_result"
    }
   ],
   "source": [
    "# Crossabs across the 3 main Sector classes\n",
    "pd.crosstab([cons1_df.iloc[:,-3], cons1_df.iloc[:,-2]], cons1_df.iloc[:,-1], margins=True)   #"
   ]
  },
  {
   "cell_type": "code",
   "execution_count": 123,
   "metadata": {
    "collapsed": true
   },
   "outputs": [],
   "source": [
    "# 7 respondents selected from more than one Sector type, so their sector class is ambiguous..."
   ]
  },
  {
   "cell_type": "markdown",
   "metadata": {},
   "source": [
    "### 4. Get VADER polarity score for each cell text, to use for stratified sampling"
   ]
  },
  {
   "cell_type": "markdown",
   "metadata": {},
   "source": [
    "Import user-define NLP functions"
   ]
  },
  {
   "cell_type": "code",
   "execution_count": 124,
   "metadata": {
    "collapsed": true
   },
   "outputs": [],
   "source": [
    "cwd = os.chdir('/Users/alessia/Documents/DataScience/textconsultations/')"
   ]
  },
  {
   "cell_type": "code",
   "execution_count": 125,
   "metadata": {},
   "outputs": [
    {
     "data": {
      "text/plain": [
       "['nlpfunctions', 'tutorial', 'README.md', '.git']"
      ]
     },
     "execution_count": 125,
     "metadata": {},
     "output_type": "execute_result"
    }
   ],
   "source": [
    "os.listdir()"
   ]
  },
  {
   "cell_type": "code",
   "execution_count": 126,
   "metadata": {
    "collapsed": true
   },
   "outputs": [],
   "source": [
    "os.listdir('nlpfunctions');"
   ]
  },
  {
   "cell_type": "code",
   "execution_count": 127,
   "metadata": {},
   "outputs": [],
   "source": [
    "import nlpfunctions.basic_NLP_functions as b_nlp"
   ]
  },
  {
   "cell_type": "markdown",
   "metadata": {},
   "source": [
    "Take a look at the user-defined basic NLP functions"
   ]
  },
  {
   "cell_type": "code",
   "execution_count": 128,
   "metadata": {
    "collapsed": true
   },
   "outputs": [],
   "source": [
    "dir(b_nlp);"
   ]
  },
  {
   "cell_type": "markdown",
   "metadata": {},
   "source": [
    "Let's rename the column that contains the relevant question"
   ]
  },
  {
   "cell_type": "code",
   "execution_count": 129,
   "metadata": {
    "collapsed": true
   },
   "outputs": [],
   "source": [
    "idx_Q1 = cons1_df.columns.get_loc(str([col for col in cons1_df if 'census methods' in str(col)][0]))"
   ]
  },
  {
   "cell_type": "code",
   "execution_count": 130,
   "metadata": {},
   "outputs": [
    {
     "data": {
      "text/plain": [
       "'1. What are your views of the different census methods described in the consultation document?Open-Ended Response'"
      ]
     },
     "execution_count": 130,
     "metadata": {},
     "output_type": "execute_result"
    }
   ],
   "source": [
    "cons1_df.columns[idx_Q1]"
   ]
  },
  {
   "cell_type": "code",
   "execution_count": 131,
   "metadata": {
    "collapsed": true
   },
   "outputs": [],
   "source": [
    "cons1_df.rename(columns = {'1. What are your views of the different census methods described in the consultation document?Open-Ended Response':'Q1_census_methods'}, inplace = True) "
   ]
  },
  {
   "cell_type": "markdown",
   "metadata": {},
   "source": [
    "Sentence-tokenise text"
   ]
  },
  {
   "cell_type": "code",
   "execution_count": 132,
   "metadata": {
    "collapsed": true,
    "scrolled": true
   },
   "outputs": [],
   "source": [
    "cons1_df['Q1_census_methods']; #ok"
   ]
  },
  {
   "cell_type": "code",
   "execution_count": 133,
   "metadata": {},
   "outputs": [
    {
     "name": "stdout",
     "output_type": "stream",
     "text": [
      "Number of NaN in Q1: 372\n"
     ]
    },
    {
     "data": {
      "text/plain": [
       "(1108, 54)"
      ]
     },
     "execution_count": 133,
     "metadata": {},
     "output_type": "execute_result"
    }
   ],
   "source": [
    "print(\"Number of NaN in Q1: {}\".format(cons1_df['Q1_census_methods'].isnull().sum()))  #372 NaN\n",
    "cons1_df.shape"
   ]
  },
  {
   "cell_type": "code",
   "execution_count": 134,
   "metadata": {},
   "outputs": [
    {
     "data": {
      "text/plain": [
       "pandas.core.series.Series"
      ]
     },
     "execution_count": 134,
     "metadata": {},
     "output_type": "execute_result"
    }
   ],
   "source": [
    "type(cons1_df['Q1_census_methods'])"
   ]
  },
  {
   "cell_type": "code",
   "execution_count": 135,
   "metadata": {
    "collapsed": true
   },
   "outputs": [],
   "source": [
    "cons1_df['Q1_census_methods'].head();"
   ]
  },
  {
   "cell_type": "code",
   "execution_count": 136,
   "metadata": {},
   "outputs": [
    {
     "name": "stdout",
     "output_type": "stream",
     "text": [
      "<class 'float'>\n",
      "<class 'float'>\n",
      "<class 'float'>\n",
      "<class 'str'>\n",
      "<class 'str'>\n"
     ]
    },
    {
     "data": {
      "text/plain": [
       "[None, None, None, None, None]"
      ]
     },
     "execution_count": 136,
     "metadata": {},
     "output_type": "execute_result"
    }
   ],
   "source": [
    "[print(type(cell)) for cell in cons1_df['Q1_census_methods'].head()]"
   ]
  },
  {
   "cell_type": "code",
   "execution_count": 137,
   "metadata": {
    "collapsed": true
   },
   "outputs": [],
   "source": [
    "cons1_df['sent_tok_text'] = cons1_df['Q1_census_methods'].apply(lambda x: b_nlp.sent_tokenise_df(x))"
   ]
  },
  {
   "cell_type": "code",
   "execution_count": 138,
   "metadata": {
    "collapsed": true
   },
   "outputs": [],
   "source": [
    "#check\n",
    "cons1_df['sent_tok_text'];"
   ]
  },
  {
   "cell_type": "markdown",
   "metadata": {},
   "source": [
    "#### Calculate VADER polarity score for each sentence in each cell/answer"
   ]
  },
  {
   "cell_type": "code",
   "execution_count": 139,
   "metadata": {
    "collapsed": true
   },
   "outputs": [],
   "source": [
    "cons1_df['VDR_SA_scores_sents'] = cons1_df['sent_tok_text'].apply(lambda x: b_nlp.get_sentiment_score_df(x))"
   ]
  },
  {
   "cell_type": "markdown",
   "metadata": {},
   "source": [
    "#### Take the mean polarity score for each cell (aggregating the scores of all the sentences within that cell)"
   ]
  },
  {
   "cell_type": "code",
   "execution_count": 140,
   "metadata": {},
   "outputs": [
    {
     "name": "stderr",
     "output_type": "stream",
     "text": [
      "/Users/alessia/anaconda3/lib/python3.6/site-packages/ipykernel_launcher.py:2: RuntimeWarning: Mean of empty slice\n",
      "  \n"
     ]
    }
   ],
   "source": [
    "# take the average for each cell/text\n",
    "cons1_df['mean_VDR_SA_scores'] = cons1_df['VDR_SA_scores_sents'].apply(lambda x: np.nanmean(x))"
   ]
  },
  {
   "cell_type": "markdown",
   "metadata": {},
   "source": [
    "#### Classify mean score as positive (if above 0) or negative (if below 0)"
   ]
  },
  {
   "cell_type": "code",
   "execution_count": 141,
   "metadata": {
    "collapsed": true
   },
   "outputs": [],
   "source": [
    "cons1_df['VDR_polarity'] = cons1_df['mean_VDR_SA_scores'].apply(lambda x: 'pos' if x > 0 else 'neg' if x < 0 else \"\")"
   ]
  },
  {
   "cell_type": "code",
   "execution_count": 142,
   "metadata": {},
   "outputs": [
    {
     "data": {
      "text/html": [
       "<div>\n",
       "<style>\n",
       "    .dataframe thead tr:only-child th {\n",
       "        text-align: right;\n",
       "    }\n",
       "\n",
       "    .dataframe thead th {\n",
       "        text-align: left;\n",
       "    }\n",
       "\n",
       "    .dataframe tbody tr th {\n",
       "        vertical-align: top;\n",
       "    }\n",
       "</style>\n",
       "<table border=\"1\" class=\"dataframe\">\n",
       "  <thead>\n",
       "    <tr style=\"text-align: right;\">\n",
       "      <th></th>\n",
       "      <th>VDR_SA_scores_sents</th>\n",
       "      <th>mean_VDR_SA_scores</th>\n",
       "      <th>VDR_polarity</th>\n",
       "    </tr>\n",
       "  </thead>\n",
       "  <tbody>\n",
       "    <tr>\n",
       "      <th>0</th>\n",
       "      <td>NaN</td>\n",
       "      <td>NaN</td>\n",
       "      <td></td>\n",
       "    </tr>\n",
       "    <tr>\n",
       "      <th>1</th>\n",
       "      <td>NaN</td>\n",
       "      <td>NaN</td>\n",
       "      <td></td>\n",
       "    </tr>\n",
       "    <tr>\n",
       "      <th>2</th>\n",
       "      <td>NaN</td>\n",
       "      <td>NaN</td>\n",
       "      <td></td>\n",
       "    </tr>\n",
       "    <tr>\n",
       "      <th>3</th>\n",
       "      <td>[0.0, -0.4585]</td>\n",
       "      <td>-0.229250</td>\n",
       "      <td>neg</td>\n",
       "    </tr>\n",
       "    <tr>\n",
       "      <th>4</th>\n",
       "      <td>[0.0, 0.3818, 0.0, 0.4404, 0.0, 0.0, 0.4404, 0.0, 0.8481, 0.7964, -0.1779, 0.0, 0.4404, 0.4404]</td>\n",
       "      <td>0.257857</td>\n",
       "      <td>pos</td>\n",
       "    </tr>\n",
       "    <tr>\n",
       "      <th>5</th>\n",
       "      <td>[0.743, 0.3818, 0.4588, 0.34, 0.7845]</td>\n",
       "      <td>0.541620</td>\n",
       "      <td>pos</td>\n",
       "    </tr>\n",
       "  </tbody>\n",
       "</table>\n",
       "</div>"
      ],
      "text/plain": [
       "                                                                               VDR_SA_scores_sents  \\\n",
       "0  NaN                                                                                               \n",
       "1  NaN                                                                                               \n",
       "2  NaN                                                                                               \n",
       "3  [0.0, -0.4585]                                                                                    \n",
       "4  [0.0, 0.3818, 0.0, 0.4404, 0.0, 0.0, 0.4404, 0.0, 0.8481, 0.7964, -0.1779, 0.0, 0.4404, 0.4404]   \n",
       "5  [0.743, 0.3818, 0.4588, 0.34, 0.7845]                                                             \n",
       "\n",
       "   mean_VDR_SA_scores VDR_polarity  \n",
       "0 NaN                               \n",
       "1 NaN                               \n",
       "2 NaN                               \n",
       "3 -0.229250            neg          \n",
       "4  0.257857            pos          \n",
       "5  0.541620            pos          "
      ]
     },
     "execution_count": 142,
     "metadata": {},
     "output_type": "execute_result"
    }
   ],
   "source": [
    "cons1_df.iloc[:, -3:].head(6)"
   ]
  },
  {
   "cell_type": "code",
   "execution_count": 143,
   "metadata": {
    "scrolled": true
   },
   "outputs": [
    {
     "data": {
      "text/plain": [
       "pos    535\n",
       "       440\n",
       "neg    133\n",
       "Name: VDR_polarity, dtype: int64"
      ]
     },
     "execution_count": 143,
     "metadata": {},
     "output_type": "execute_result"
    }
   ],
   "source": [
    "cons1_df['VDR_polarity'].value_counts()    #535 pos, 133 neg, \"\"440 (no answer to Q1 was provided)"
   ]
  },
  {
   "cell_type": "markdown",
   "metadata": {},
   "source": [
    "#### Some crosstabulations between answer's polarity and respondent's main characteristics"
   ]
  },
  {
   "cell_type": "code",
   "execution_count": 144,
   "metadata": {},
   "outputs": [
    {
     "data": {
      "text/html": [
       "<div>\n",
       "<style>\n",
       "    .dataframe thead tr:only-child th {\n",
       "        text-align: right;\n",
       "    }\n",
       "\n",
       "    .dataframe thead th {\n",
       "        text-align: left;\n",
       "    }\n",
       "\n",
       "    .dataframe tbody tr th {\n",
       "        vertical-align: top;\n",
       "    }\n",
       "</style>\n",
       "<table border=\"1\" class=\"dataframe\">\n",
       "  <thead>\n",
       "    <tr style=\"text-align: right;\">\n",
       "      <th>Are you responding on behalf of an organisation, or as an individual?Response</th>\n",
       "      <th>Individual</th>\n",
       "      <th>Organisation</th>\n",
       "    </tr>\n",
       "    <tr>\n",
       "      <th>VDR_polarity</th>\n",
       "      <th></th>\n",
       "      <th></th>\n",
       "    </tr>\n",
       "  </thead>\n",
       "  <tbody>\n",
       "    <tr>\n",
       "      <th></th>\n",
       "      <td>378</td>\n",
       "      <td>46</td>\n",
       "    </tr>\n",
       "    <tr>\n",
       "      <th>neg</th>\n",
       "      <td>99</td>\n",
       "      <td>33</td>\n",
       "    </tr>\n",
       "    <tr>\n",
       "      <th>pos</th>\n",
       "      <td>334</td>\n",
       "      <td>195</td>\n",
       "    </tr>\n",
       "  </tbody>\n",
       "</table>\n",
       "</div>"
      ],
      "text/plain": [
       "Are you responding on behalf of an organisation, or as an individual?Response  Individual  \\\n",
       "VDR_polarity                                                                                \n",
       "                                                                               378          \n",
       "neg                                                                            99           \n",
       "pos                                                                            334          \n",
       "\n",
       "Are you responding on behalf of an organisation, or as an individual?Response  Organisation  \n",
       "VDR_polarity                                                                                 \n",
       "                                                                               46            \n",
       "neg                                                                            33            \n",
       "pos                                                                            195           "
      ]
     },
     "execution_count": 144,
     "metadata": {},
     "output_type": "execute_result"
    }
   ],
   "source": [
    "# sample 100 positive and 100 negative sentence: 30% from organisations, 70% from individuals\n",
    "pd.crosstab(cons1_df['VDR_polarity'], cons1_df['Are you responding on behalf of an organisation, or as an individual?Response'])"
   ]
  },
  {
   "cell_type": "markdown",
   "metadata": {},
   "source": [
    "### 5. Create Stratified random sample for test data"
   ]
  },
  {
   "cell_type": "code",
   "execution_count": 145,
   "metadata": {
    "collapsed": true
   },
   "outputs": [],
   "source": [
    "# create strata\n",
    "pos_org_cond = ((cons1_df['VDR_polarity'] == 'pos') & (cons1_df['Are you responding on behalf of an organisation, or as an individual?Response'] == 'Organisation'))\n",
    "neg_org_cond = ((cons1_df['VDR_polarity'] == 'neg') & (cons1_df['Are you responding on behalf of an organisation, or as an individual?Response'] == 'Organisation'))\n",
    "\n",
    "pos_ind_cond = ((cons1_df['VDR_polarity'] == 'pos') & (cons1_df['Are you responding on behalf of an organisation, or as an individual?Response'] == 'Individual'))\n",
    "neg_ind_cond = ((cons1_df['VDR_polarity'] == 'neg') & (cons1_df['Are you responding on behalf of an organisation, or as an individual?Response'] == 'Individual'))\n"
   ]
  },
  {
   "cell_type": "code",
   "execution_count": 146,
   "metadata": {},
   "outputs": [],
   "source": [
    "# sample sentences\n",
    "np.random.seed(11) \n",
    "\n",
    "pos_org_sample = cons1_df[pos_org_cond].sample(30)\n",
    "neg_org_sample = cons1_df[neg_org_cond].sample(30)\n",
    "\n",
    "pos_ind_sample = cons1_df[pos_ind_cond].sample(70)\n",
    "neg_ind_sample = cons1_df[neg_ind_cond].sample(70)"
   ]
  },
  {
   "cell_type": "code",
   "execution_count": 147,
   "metadata": {
    "collapsed": true,
    "scrolled": true
   },
   "outputs": [],
   "source": [
    "#print(pos_org_sample['Unnamed: 0'].head(4))\n",
    "#print(neg_org_sample['Unnamed: 0'].head(4))\n",
    "#print(pos_ind_sample['Unnamed: 0'].head(4))\n",
    "#print(neg_ind_sample['Unnamed: 0'].head(4))"
   ]
  },
  {
   "cell_type": "code",
   "execution_count": 148,
   "metadata": {
    "collapsed": true
   },
   "outputs": [],
   "source": [
    "datas = [pos_org_sample, neg_org_sample, pos_ind_sample, neg_ind_sample]\n",
    "\n",
    "sa_q1_sample = pd.concat(datas)"
   ]
  },
  {
   "cell_type": "code",
   "execution_count": 149,
   "metadata": {
    "collapsed": true
   },
   "outputs": [],
   "source": [
    "sa_q1_sample = sa_q1_sample.iloc[:, [1, 40, 10, -7, -6, -5, -4, -3, -2, -1]]"
   ]
  },
  {
   "cell_type": "code",
   "execution_count": 150,
   "metadata": {
    "collapsed": true
   },
   "outputs": [],
   "source": [
    "# DO NOT RUN\n",
    "#sa_q1_sample.to_csv(\"/Users/alessia/Documents/DataScience/NLP_Project/Outputs/sa_q1_sample_testdata.csv\")"
   ]
  },
  {
   "cell_type": "markdown",
   "metadata": {},
   "source": [
    "#### Add TextBlob polarity score"
   ]
  },
  {
   "cell_type": "code",
   "execution_count": 151,
   "metadata": {
    "collapsed": true
   },
   "outputs": [],
   "source": [
    "sa_q1_sample['sent_tok_text'] = sa_q1_sample['Q1_census_methods'].apply(lambda x: b_nlp.sent_tokenise_df(x))"
   ]
  },
  {
   "cell_type": "code",
   "execution_count": 152,
   "metadata": {
    "collapsed": true,
    "scrolled": true
   },
   "outputs": [],
   "source": [
    "sa_q1_sample['TB_SA_score_sents'] = sa_q1_sample['sent_tok_text'].apply(lambda x: b_nlp.get_textblob_sentiment_score_df(x))"
   ]
  },
  {
   "cell_type": "code",
   "execution_count": 153,
   "metadata": {
    "collapsed": true
   },
   "outputs": [],
   "source": [
    "sa_q1_sample['TB_mean_SA_score'] = sa_q1_sample['TB_SA_score_sents'].apply(lambda x: np.nanmean(x))"
   ]
  },
  {
   "cell_type": "code",
   "execution_count": 154,
   "metadata": {
    "collapsed": true
   },
   "outputs": [],
   "source": [
    "sa_q1_sample['TB_polarity'] = sa_q1_sample['TB_mean_SA_score'].apply(lambda x: 'pos' if x > 0 else 'neg' if x < 0 else \"\")"
   ]
  },
  {
   "cell_type": "code",
   "execution_count": 155,
   "metadata": {},
   "outputs": [],
   "source": [
    "sa_q1_sample[['TB_SA_score_sents','TB_mean_SA_score','TB_polarity', 'VDR_polarity']];"
   ]
  },
  {
   "cell_type": "markdown",
   "metadata": {},
   "source": [
    "Let's do some checks for data types"
   ]
  },
  {
   "cell_type": "code",
   "execution_count": 156,
   "metadata": {
    "scrolled": true
   },
   "outputs": [
    {
     "data": {
      "text/plain": [
       "Index(['Respondent ID', 'Q1_census_methods',\n",
       "       'Are you responding on behalf of an organisation, or as an individual?Response',\n",
       "       'PublicSector', 'PrivateSector', 'OtherSectors', 'sent_tok_text',\n",
       "       'VDR_SA_scores_sents', 'mean_VDR_SA_scores', 'VDR_polarity',\n",
       "       'TB_SA_score_sents', 'TB_mean_SA_score', 'TB_polarity'],\n",
       "      dtype='object')"
      ]
     },
     "execution_count": 156,
     "metadata": {},
     "output_type": "execute_result"
    }
   ],
   "source": [
    "sa_q1_sample.columns"
   ]
  },
  {
   "cell_type": "code",
   "execution_count": 157,
   "metadata": {
    "scrolled": true
   },
   "outputs": [
    {
     "data": {
      "text/plain": [
       "Respondent ID                                                                    int64  \n",
       "Q1_census_methods                                                                object \n",
       "Are you responding on behalf of an organisation, or as an individual?Response    object \n",
       "PublicSector                                                                     int64  \n",
       "PrivateSector                                                                    int64  \n",
       "OtherSectors                                                                     int64  \n",
       "sent_tok_text                                                                    object \n",
       "VDR_SA_scores_sents                                                              object \n",
       "mean_VDR_SA_scores                                                               float64\n",
       "VDR_polarity                                                                     object \n",
       "TB_SA_score_sents                                                                object \n",
       "TB_mean_SA_score                                                                 float64\n",
       "TB_polarity                                                                      object \n",
       "dtype: object"
      ]
     },
     "execution_count": 157,
     "metadata": {},
     "output_type": "execute_result"
    }
   ],
   "source": [
    "sa_q1_sample.dtypes"
   ]
  },
  {
   "cell_type": "code",
   "execution_count": 158,
   "metadata": {},
   "outputs": [],
   "source": [
    "[type(score) for sublist in sa_q1_sample['VDR_SA_scores_sents'] for score in sublist ];   \n",
    "# float :-)"
   ]
  },
  {
   "cell_type": "code",
   "execution_count": 159,
   "metadata": {
    "collapsed": true
   },
   "outputs": [],
   "source": [
    "### re-save data\n",
    "# DO NOT RUN\n",
    "#sa_q1_sample.to_csv(\"/Users/alessia/Documents/DataScience/NLP_Project/Outputs/sa_q1_sample_testdata.csv\")"
   ]
  },
  {
   "cell_type": "markdown",
   "metadata": {},
   "source": [
    "### 6. Agreement between VADER and TextBlob polarity classification"
   ]
  },
  {
   "cell_type": "markdown",
   "metadata": {},
   "source": [
    "TextBlob tends to classify many more texts as positive compared to Vader..."
   ]
  },
  {
   "cell_type": "code",
   "execution_count": 103,
   "metadata": {},
   "outputs": [
    {
     "data": {
      "text/html": [
       "<div>\n",
       "<style>\n",
       "    .dataframe thead tr:only-child th {\n",
       "        text-align: right;\n",
       "    }\n",
       "\n",
       "    .dataframe thead th {\n",
       "        text-align: left;\n",
       "    }\n",
       "\n",
       "    .dataframe tbody tr th {\n",
       "        vertical-align: top;\n",
       "    }\n",
       "</style>\n",
       "<table border=\"1\" class=\"dataframe\">\n",
       "  <thead>\n",
       "    <tr style=\"text-align: right;\">\n",
       "      <th>TB_polarity</th>\n",
       "      <th></th>\n",
       "      <th>neg</th>\n",
       "      <th>pos</th>\n",
       "    </tr>\n",
       "    <tr>\n",
       "      <th>VDR_polarity</th>\n",
       "      <th></th>\n",
       "      <th></th>\n",
       "      <th></th>\n",
       "    </tr>\n",
       "  </thead>\n",
       "  <tbody>\n",
       "    <tr>\n",
       "      <th>neg</th>\n",
       "      <td>5</td>\n",
       "      <td>23</td>\n",
       "      <td>72</td>\n",
       "    </tr>\n",
       "    <tr>\n",
       "      <th>pos</th>\n",
       "      <td>3</td>\n",
       "      <td>5</td>\n",
       "      <td>92</td>\n",
       "    </tr>\n",
       "  </tbody>\n",
       "</table>\n",
       "</div>"
      ],
      "text/plain": [
       "TB_polarity      neg  pos\n",
       "VDR_polarity             \n",
       "neg           5  23   72 \n",
       "pos           3  5    92 "
      ]
     },
     "execution_count": 103,
     "metadata": {},
     "output_type": "execute_result"
    }
   ],
   "source": [
    "pd.crosstab(sa_q1_sample['VDR_polarity'], sa_q1_sample['TB_polarity'])"
   ]
  },
  {
   "cell_type": "code",
   "execution_count": 104,
   "metadata": {},
   "outputs": [
    {
     "data": {
      "text/plain": [
       "0.18269230769230771"
      ]
     },
     "execution_count": 104,
     "metadata": {},
     "output_type": "execute_result"
    }
   ],
   "source": [
    "from sklearn.metrics import cohen_kappa_score\n",
    "cohen_kappa_score(sa_q1_sample['VDR_polarity'], sa_q1_sample['TB_polarity']) "
   ]
  },
  {
   "cell_type": "code",
   "execution_count": 105,
   "metadata": {
    "collapsed": true
   },
   "outputs": [],
   "source": [
    "sa_q1_sample[(sa_q1_sample.VDR_polarity == 'neg') & (sa_q1_sample.TB_polarity == 'pos')][['Q1_census_methods', \n",
    "                                                                                             'TB_SA_score_sents','TB_mean_SA_score','TB_polarity']];"
   ]
  },
  {
   "cell_type": "markdown",
   "metadata": {},
   "source": [
    "Let's plot the distribution of the TB polariy scores on which VADER and Textblob do not agree (VDR says 'neg', TB says 'pos').\n",
    "\n",
    "As the distribution plot shows, these are not strongly polarised scores (i.e., very close to 0). Most of them lie in the [0, .30] range."
   ]
  },
  {
   "cell_type": "code",
   "execution_count": 160,
   "metadata": {
    "scrolled": true
   },
   "outputs": [
    {
     "data": {
      "image/png": "[encoded data removed]",
      "text/plain": [
       "<matplotlib.figure.Figure at 0x10b6492b0>"
      ]
     },
     "metadata": {},
     "output_type": "display_data"
    }
   ],
   "source": [
    "# matplotlib histogram\n",
    "plt_data = sa_q1_sample[(sa_q1_sample.VDR_polarity == 'neg') & (sa_q1_sample.TB_polarity == 'pos')]\n",
    "\n",
    "plt.hist(plt_data['TB_mean_SA_score'], color = 'green', edgecolor = 'black', bins=20)\n",
    "\n",
    "# Add labels\n",
    "plt.title('Histogram of positive TB polarity scores that VADER considers negative')\n",
    "plt.xlabel('polarity score')\n",
    "plt.ylabel('frequency')\n",
    "\n",
    "plt.show()"
   ]
  },
  {
   "cell_type": "markdown",
   "metadata": {},
   "source": []
  }
 ],
 "metadata": {
  "kernelspec": {
   "display_name": "Python 3",
   "language": "python",
   "name": "python3"
  },
  "language_info": {
   "codemirror_mode": {
    "name": "ipython",
    "version": 3
   },
   "file_extension": ".py",
   "mimetype": "text/x-python",
   "name": "python",
   "nbconvert_exporter": "python",
   "pygments_lexer": "ipython3",
   "version": "3.6.3"
  }
 },
 "nbformat": 4,
 "nbformat_minor": 2
}
