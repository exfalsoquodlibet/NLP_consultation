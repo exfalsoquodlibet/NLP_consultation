{
 "cells": [
  {
   "cell_type": "markdown",
   "metadata": {},
   "source": [
    "### Improving Sample for Test Data: a stricter polarity threholds \n",
    "\n",
    "Here we create a new verion of the sample for the test data that tries to improve the iter-rater reliabiliy agreements on the sentiment of the answers/texts, by only keeping those sentences that, in each answer/text, have a polarity score that meets a stricter threshold.\n",
    "\n",
    "Workflow:\n",
    "\n",
    "1. Calculate polarity score for each senence in each text using Vader\n",
    "2. Eliminate all those scores that do not meet the (stricter) threshold for positivity/nagativity\n",
    "3. Calculate mean polarity score for the text"
   ]
  },
  {
   "cell_type": "markdown",
   "metadata": {},
   "source": [
    "### 1. Imports and Set Up"
   ]
  },
  {
   "cell_type": "code",
   "execution_count": 1,
   "metadata": {
    "collapsed": true
   },
   "outputs": [],
   "source": [
    "import os\n",
    "import pandas as pd\n",
    "import numpy as np\n",
    "import matplotlib.pyplot as plt\n",
    "from ast import literal_eval"
   ]
  },
  {
   "cell_type": "code",
   "execution_count": 2,
   "metadata": {
    "collapsed": true
   },
   "outputs": [],
   "source": [
    "#### Set up working directory\n",
    "cwd = os.chdir('/Users/alessia/Documents/DataScience/NLP_Project/Outputs')"
   ]
  },
  {
   "cell_type": "code",
   "execution_count": 3,
   "metadata": {
    "collapsed": true
   },
   "outputs": [],
   "source": [
    "pd.set_option('display.max_colwidth', -1)"
   ]
  },
  {
   "cell_type": "markdown",
   "metadata": {},
   "source": [
    "### 2. Get Data"
   ]
  },
  {
   "cell_type": "code",
   "execution_count": 4,
   "metadata": {
    "collapsed": true
   },
   "outputs": [],
   "source": [
    "# Read in data using literal_eval and converers\n",
    "testdata_sample = pd.read_csv(\"sa_q1_sample_testdata.csv\", converters=dict(VDR_SA_scores_sents=literal_eval, \n",
    "                                                                           TB_SA_score_sents = literal_eval, \n",
    "                                                                           subjty_score_sents = literal_eval))"
   ]
  },
  {
   "cell_type": "code",
   "execution_count": 5,
   "metadata": {
    "collapsed": true
   },
   "outputs": [],
   "source": [
    "# Fix the columns containing a mixture of strings and floats (NaN) due to pd.to_csv...\n",
    "\n",
    "testdata_sample['only_subj_VDR_scores'] = testdata_sample['only_subj_VDR_scores'].map(lambda x: literal_eval(x) if isinstance(x, str) else x)\n",
    "\n",
    "testdata_sample['only_subj_TB_scores'] = testdata_sample['only_subj_TB_scores'].map(lambda x: literal_eval(x) if isinstance(x, str) else x)"
   ]
  },
  {
   "cell_type": "markdown",
   "metadata": {},
   "source": [
    "### 3. Import basic NLP functions"
   ]
  },
  {
   "cell_type": "code",
   "execution_count": 6,
   "metadata": {
    "collapsed": true
   },
   "outputs": [],
   "source": [
    "cwd = os.chdir('/Users/alessia/Documents/DataScience/textconsultations/')"
   ]
  },
  {
   "cell_type": "code",
   "execution_count": 7,
   "metadata": {},
   "outputs": [
    {
     "data": {
      "text/plain": [
       "['nlpfunctions', 'tutorial', 'README.md', '.git']"
      ]
     },
     "execution_count": 7,
     "metadata": {},
     "output_type": "execute_result"
    }
   ],
   "source": [
    "os.listdir()"
   ]
  },
  {
   "cell_type": "code",
   "execution_count": 8,
   "metadata": {
    "collapsed": true,
    "scrolled": true
   },
   "outputs": [],
   "source": [
    "os.listdir('nlpfunctions');"
   ]
  },
  {
   "cell_type": "code",
   "execution_count": 9,
   "metadata": {},
   "outputs": [
    {
     "name": "stderr",
     "output_type": "stream",
     "text": [
      "/Users/alessia/anaconda3/lib/python3.6/site-packages/nltk/twitter/__init__.py:20: UserWarning: The twython library has not been installed. Some functionality from the twitter package will not be available.\n",
      "  warnings.warn(\"The twython library has not been installed. \"\n"
     ]
    }
   ],
   "source": [
    "import nlpfunctions.basic_NLP_functions as b_nlp"
   ]
  },
  {
   "cell_type": "markdown",
   "metadata": {},
   "source": [
    "### 4. Calculate stricter mean polarity score for each text"
   ]
  },
  {
   "cell_type": "code",
   "execution_count": 10,
   "metadata": {},
   "outputs": [
    {
     "data": {
      "text/plain": [
       "Index(['Unnamed: 0', 'Unnamed: 0.1', 'Respondent ID', 'Q1_census_methods',\n",
       "       'Are you responding on behalf of an organisation, or as an individual?Response',\n",
       "       'PublicSector', 'PrivateSector', 'OtherSectors', 'sent_tok_text',\n",
       "       'VDR_SA_scores_sents', 'mean_VDR_SA_scores', 'VDR_polarity',\n",
       "       'TB_SA_score_sents', 'TB_mean_SA_score', 'TB_polarity',\n",
       "       'subjty_score_sents', 'Q1_only_subj_sents', 'only_subj_VDR_scores',\n",
       "       'only_subj_mean_VDR_score', 'only_subj_VDR_polarity',\n",
       "       'only_subj_TB_scores', 'only_subj_mean_TB_score',\n",
       "       'only_subj_TB_polarity'],\n",
       "      dtype='object')"
      ]
     },
     "execution_count": 10,
     "metadata": {},
     "output_type": "execute_result"
    }
   ],
   "source": [
    "testdata_sample.columns"
   ]
  },
  {
   "cell_type": "markdown",
   "metadata": {},
   "source": [
    "Sentence-tokenise texts"
   ]
  },
  {
   "cell_type": "code",
   "execution_count": 11,
   "metadata": {
    "collapsed": true
   },
   "outputs": [],
   "source": [
    "testdata_sample['sent_tok_text'] = testdata_sample['Q1_census_methods'].apply(lambda x: b_nlp.sent_tokenise_df(x))"
   ]
  },
  {
   "cell_type": "markdown",
   "metadata": {},
   "source": [
    "#### Remove (i.e., assign NaN) to all those VDR polarity scores that do not meet the threshold. \n",
    "I.e., -0.3 <= score <= 0.3 are removed."
   ]
  },
  {
   "cell_type": "code",
   "execution_count": 12,
   "metadata": {
    "collapsed": true
   },
   "outputs": [],
   "source": [
    "testdata_sample['strict_VDR_SA_scores_sents'] = testdata_sample['VDR_SA_scores_sents'].apply(lambda x: b_nlp.get_sentiment_stricter_threshold_df(x, polarity_threshold = 0.3))"
   ]
  },
  {
   "cell_type": "code",
   "execution_count": 13,
   "metadata": {
    "collapsed": true
   },
   "outputs": [],
   "source": [
    "testdata_sample[['strict_VDR_SA_scores_sents', 'VDR_polarity']];"
   ]
  },
  {
   "cell_type": "markdown",
   "metadata": {},
   "source": [
    "#### Re-calculate text's mean polarity score using VADER"
   ]
  },
  {
   "cell_type": "code",
   "execution_count": 15,
   "metadata": {
    "scrolled": true
   },
   "outputs": [
    {
     "name": "stderr",
     "output_type": "stream",
     "text": [
      "/Users/alessia/anaconda3/lib/python3.6/site-packages/ipykernel_launcher.py:1: RuntimeWarning: Mean of empty slice\n",
      "  \"\"\"Entry point for launching an IPython kernel.\n"
     ]
    }
   ],
   "source": [
    "testdata_sample['mean_strict_VDR_score'] = testdata_sample['strict_VDR_SA_scores_sents'].apply(lambda x: np.nanmean(x))"
   ]
  },
  {
   "cell_type": "code",
   "execution_count": 16,
   "metadata": {},
   "outputs": [],
   "source": [
    "testdata_sample['strict_VDR_polarity'] = testdata_sample['mean_strict_VDR_score'].apply(lambda x: 'pos' if x > 0 else 'neg' if x < 0 else \"\")"
   ]
  },
  {
   "cell_type": "code",
   "execution_count": 17,
   "metadata": {},
   "outputs": [
    {
     "data": {
      "text/html": [
       "<div>\n",
       "<style>\n",
       "    .dataframe thead tr:only-child th {\n",
       "        text-align: right;\n",
       "    }\n",
       "\n",
       "    .dataframe thead th {\n",
       "        text-align: left;\n",
       "    }\n",
       "\n",
       "    .dataframe tbody tr th {\n",
       "        vertical-align: top;\n",
       "    }\n",
       "</style>\n",
       "<table border=\"1\" class=\"dataframe\">\n",
       "  <thead>\n",
       "    <tr style=\"text-align: right;\">\n",
       "      <th></th>\n",
       "      <th>VDR_SA_scores_sents</th>\n",
       "      <th>mean_VDR_SA_scores</th>\n",
       "      <th>VDR_polarity</th>\n",
       "      <th>strict_VDR_SA_scores_sents</th>\n",
       "      <th>mean_strict_VDR_score</th>\n",
       "      <th>strict_VDR_polarity</th>\n",
       "    </tr>\n",
       "  </thead>\n",
       "  <tbody>\n",
       "    <tr>\n",
       "      <th>0</th>\n",
       "      <td>[0.6369, 0.6597, 0.8402, 0.0, 0.2263, 0.6486, 0.0, 0.4939, 0.09, 0.0772, 0.0, 0.6597, 0.4754, 0.8074, 0.6124, -0.7269, 0.25, -0.6249, -0.624, -0.101, -0.1531, 0.3182, 0.0, -0.25, 0.0, 0.0, 0.34, 0.7076, -0.34, 0.0, 0.0, -0.2732, 0.6597, 0.0, 0.0, 0.8126, 0.6597, 0.6808, 0.0772, 0.4404, 0.1548, 0.0516, 0.5859]</td>\n",
       "      <td>0.206351</td>\n",
       "      <td>pos</td>\n",
       "      <td>[0.6369, 0.6597, 0.8402, nan, nan, 0.6486, nan, 0.4939, nan, nan, nan, 0.6597, 0.4754, 0.8074, 0.6124, -0.7269, nan, -0.6249, -0.624, nan, nan, 0.3182, nan, nan, nan, nan, 0.34, 0.7076, -0.34, nan, nan, nan, 0.6597, nan, nan, 0.8126, 0.6597, 0.6808, nan, 0.4404, nan, nan, 0.5859]</td>\n",
       "      <td>0.396514</td>\n",
       "      <td>pos</td>\n",
       "    </tr>\n",
       "    <tr>\n",
       "      <th>1</th>\n",
       "      <td>[0.3612, 0.0]</td>\n",
       "      <td>0.180600</td>\n",
       "      <td>pos</td>\n",
       "      <td>[0.3612, nan]</td>\n",
       "      <td>0.361200</td>\n",
       "      <td>pos</td>\n",
       "    </tr>\n",
       "    <tr>\n",
       "      <th>2</th>\n",
       "      <td>[0.0, 0.0258, 0.4927, 0.0, 0.0, 0.2263, 0.2263, 0.0]</td>\n",
       "      <td>0.121387</td>\n",
       "      <td>pos</td>\n",
       "      <td>[nan, nan, 0.4927, nan, nan, nan, nan, nan]</td>\n",
       "      <td>0.492700</td>\n",
       "      <td>pos</td>\n",
       "    </tr>\n",
       "    <tr>\n",
       "      <th>3</th>\n",
       "      <td>[0.4404, 0.4215, 0.3818, -0.3182]</td>\n",
       "      <td>0.231375</td>\n",
       "      <td>pos</td>\n",
       "      <td>[0.4404, 0.4215, 0.3818, -0.3182]</td>\n",
       "      <td>0.231375</td>\n",
       "      <td>pos</td>\n",
       "    </tr>\n",
       "  </tbody>\n",
       "</table>\n",
       "</div>"
      ],
      "text/plain": [
       "                                                                                                                                                                                                                                                                                                      VDR_SA_scores_sents  \\\n",
       "0  [0.6369, 0.6597, 0.8402, 0.0, 0.2263, 0.6486, 0.0, 0.4939, 0.09, 0.0772, 0.0, 0.6597, 0.4754, 0.8074, 0.6124, -0.7269, 0.25, -0.6249, -0.624, -0.101, -0.1531, 0.3182, 0.0, -0.25, 0.0, 0.0, 0.34, 0.7076, -0.34, 0.0, 0.0, -0.2732, 0.6597, 0.0, 0.0, 0.8126, 0.6597, 0.6808, 0.0772, 0.4404, 0.1548, 0.0516, 0.5859]   \n",
       "1  [0.3612, 0.0]                                                                                                                                                                                                                                                                                                            \n",
       "2  [0.0, 0.0258, 0.4927, 0.0, 0.0, 0.2263, 0.2263, 0.0]                                                                                                                                                                                                                                                                     \n",
       "3  [0.4404, 0.4215, 0.3818, -0.3182]                                                                                                                                                                                                                                                                                        \n",
       "\n",
       "   mean_VDR_SA_scores VDR_polarity  \\\n",
       "0  0.206351            pos           \n",
       "1  0.180600            pos           \n",
       "2  0.121387            pos           \n",
       "3  0.231375            pos           \n",
       "\n",
       "                                                                                                                                                                                                                                                                 strict_VDR_SA_scores_sents  \\\n",
       "0  [0.6369, 0.6597, 0.8402, nan, nan, 0.6486, nan, 0.4939, nan, nan, nan, 0.6597, 0.4754, 0.8074, 0.6124, -0.7269, nan, -0.6249, -0.624, nan, nan, 0.3182, nan, nan, nan, nan, 0.34, 0.7076, -0.34, nan, nan, nan, 0.6597, nan, nan, 0.8126, 0.6597, 0.6808, nan, 0.4404, nan, nan, 0.5859]   \n",
       "1  [0.3612, nan]                                                                                                                                                                                                                                                                              \n",
       "2  [nan, nan, 0.4927, nan, nan, nan, nan, nan]                                                                                                                                                                                                                                                \n",
       "3  [0.4404, 0.4215, 0.3818, -0.3182]                                                                                                                                                                                                                                                          \n",
       "\n",
       "   mean_strict_VDR_score strict_VDR_polarity  \n",
       "0  0.396514               pos                 \n",
       "1  0.361200               pos                 \n",
       "2  0.492700               pos                 \n",
       "3  0.231375               pos                 "
      ]
     },
     "execution_count": 17,
     "metadata": {},
     "output_type": "execute_result"
    }
   ],
   "source": [
    "# Checks\n",
    "\n",
    "testdata_sample[['VDR_SA_scores_sents', 'mean_VDR_SA_scores', 'VDR_polarity',\n",
    "                 'strict_VDR_SA_scores_sents', 'mean_strict_VDR_score', 'strict_VDR_polarity']][:4]"
   ]
  },
  {
   "cell_type": "markdown",
   "metadata": {},
   "source": [
    "#### From each text, remove the sentences whose polarity score does not meet the stricter threshold"
   ]
  },
  {
   "cell_type": "code",
   "execution_count": 19,
   "metadata": {},
   "outputs": [],
   "source": [
    "testdata_sample['only_strict_polarity_sents'] = testdata_sample['sent_tok_text'].apply(lambda x: b_nlp.keep_only_strict_polarity_sents_df(x))"
   ]
  },
  {
   "cell_type": "code",
   "execution_count": 24,
   "metadata": {},
   "outputs": [],
   "source": [
    "# Check\n",
    "testdata_sample[['sent_tok_text', 'VDR_SA_scores_sents',\n",
    "                 'only_strict_polarity_sents', \n",
    "                 'strict_VDR_SA_scores_sents', 'mean_strict_VDR_score', 'strict_VDR_polarity']][1:5];\n",
    "\n",
    "# Some negative sentences are not picked up correctly by VADER..."
   ]
  },
  {
   "cell_type": "markdown",
   "metadata": {},
   "source": [
    "#### Re-Calculate TextBlob polarity score on strict polarity texts"
   ]
  },
  {
   "cell_type": "code",
   "execution_count": 25,
   "metadata": {
    "collapsed": true
   },
   "outputs": [],
   "source": [
    "testdata_sample['strict_sents_TB_scores'] = testdata_sample['only_strict_polarity_sents'].apply(lambda x: b_nlp.get_textblob_sentiment_score_df(x))"
   ]
  },
  {
   "cell_type": "code",
   "execution_count": 26,
   "metadata": {
    "scrolled": false
   },
   "outputs": [
    {
     "name": "stderr",
     "output_type": "stream",
     "text": [
      "/Users/alessia/anaconda3/lib/python3.6/site-packages/ipykernel_launcher.py:1: RuntimeWarning: Mean of empty slice\n",
      "  \"\"\"Entry point for launching an IPython kernel.\n"
     ]
    }
   ],
   "source": [
    "testdata_sample['strict_sent_mean_TB_score'] = testdata_sample['strict_sents_TB_scores'].apply(lambda x: np.nanmean(x))"
   ]
  },
  {
   "cell_type": "code",
   "execution_count": 27,
   "metadata": {
    "collapsed": true
   },
   "outputs": [],
   "source": [
    "testdata_sample['strict_sent_TB_polarity'] = testdata_sample['strict_sent_mean_TB_score'].apply(lambda x: 'pos' if x > 0 else 'neg' if x < 0 else \"\")"
   ]
  },
  {
   "cell_type": "markdown",
   "metadata": {},
   "source": [
    "### 5. Agreement"
   ]
  },
  {
   "cell_type": "code",
   "execution_count": 34,
   "metadata": {
    "collapsed": true
   },
   "outputs": [],
   "source": [
    "#testdata_sample.iloc[:, -5:]"
   ]
  },
  {
   "cell_type": "code",
   "execution_count": 32,
   "metadata": {},
   "outputs": [],
   "source": [
    "# Checks\n",
    "testdata_sample.head(3);"
   ]
  },
  {
   "cell_type": "code",
   "execution_count": 34,
   "metadata": {},
   "outputs": [
    {
     "data": {
      "text/html": [
       "<div>\n",
       "<style>\n",
       "    .dataframe thead tr:only-child th {\n",
       "        text-align: right;\n",
       "    }\n",
       "\n",
       "    .dataframe thead th {\n",
       "        text-align: left;\n",
       "    }\n",
       "\n",
       "    .dataframe tbody tr th {\n",
       "        vertical-align: top;\n",
       "    }\n",
       "</style>\n",
       "<table border=\"1\" class=\"dataframe\">\n",
       "  <thead>\n",
       "    <tr style=\"text-align: right;\">\n",
       "      <th>strict_VDR_polarity</th>\n",
       "      <th></th>\n",
       "      <th>neg</th>\n",
       "      <th>pos</th>\n",
       "    </tr>\n",
       "    <tr>\n",
       "      <th>VDR_polarity</th>\n",
       "      <th></th>\n",
       "      <th></th>\n",
       "      <th></th>\n",
       "    </tr>\n",
       "  </thead>\n",
       "  <tbody>\n",
       "    <tr>\n",
       "      <th>neg</th>\n",
       "      <td>21</td>\n",
       "      <td>72</td>\n",
       "      <td>7</td>\n",
       "    </tr>\n",
       "    <tr>\n",
       "      <th>pos</th>\n",
       "      <td>14</td>\n",
       "      <td>0</td>\n",
       "      <td>86</td>\n",
       "    </tr>\n",
       "  </tbody>\n",
       "</table>\n",
       "</div>"
      ],
      "text/plain": [
       "strict_VDR_polarity      neg  pos\n",
       "VDR_polarity                     \n",
       "neg                  21  72   7  \n",
       "pos                  14  0    86 "
      ]
     },
     "execution_count": 34,
     "metadata": {},
     "output_type": "execute_result"
    }
   ],
   "source": [
    "pd.crosstab(testdata_sample['VDR_polarity'], testdata_sample['strict_VDR_polarity'])\n",
    "# 35 texts go \"removed\""
   ]
  },
  {
   "cell_type": "code",
   "execution_count": 35,
   "metadata": {
    "scrolled": false
   },
   "outputs": [
    {
     "data": {
      "text/html": [
       "<div>\n",
       "<style>\n",
       "    .dataframe thead tr:only-child th {\n",
       "        text-align: right;\n",
       "    }\n",
       "\n",
       "    .dataframe thead th {\n",
       "        text-align: left;\n",
       "    }\n",
       "\n",
       "    .dataframe tbody tr th {\n",
       "        vertical-align: top;\n",
       "    }\n",
       "</style>\n",
       "<table border=\"1\" class=\"dataframe\">\n",
       "  <thead>\n",
       "    <tr style=\"text-align: right;\">\n",
       "      <th>strict_sent_TB_polarity</th>\n",
       "      <th></th>\n",
       "      <th>neg</th>\n",
       "      <th>pos</th>\n",
       "    </tr>\n",
       "    <tr>\n",
       "      <th>strict_VDR_polarity</th>\n",
       "      <th></th>\n",
       "      <th></th>\n",
       "      <th></th>\n",
       "    </tr>\n",
       "  </thead>\n",
       "  <tbody>\n",
       "    <tr>\n",
       "      <th></th>\n",
       "      <td>35</td>\n",
       "      <td>0</td>\n",
       "      <td>0</td>\n",
       "    </tr>\n",
       "    <tr>\n",
       "      <th>neg</th>\n",
       "      <td>8</td>\n",
       "      <td>23</td>\n",
       "      <td>41</td>\n",
       "    </tr>\n",
       "    <tr>\n",
       "      <th>pos</th>\n",
       "      <td>6</td>\n",
       "      <td>3</td>\n",
       "      <td>84</td>\n",
       "    </tr>\n",
       "  </tbody>\n",
       "</table>\n",
       "</div>"
      ],
      "text/plain": [
       "strict_sent_TB_polarity      neg  pos\n",
       "strict_VDR_polarity                  \n",
       "                         35  0    0  \n",
       "neg                      8   23   41 \n",
       "pos                      6   3    84 "
      ]
     },
     "execution_count": 35,
     "metadata": {},
     "output_type": "execute_result"
    }
   ],
   "source": [
    "pd.crosstab(testdata_sample['strict_VDR_polarity'], testdata_sample['strict_sent_TB_polarity'], )\n",
    "# still many texts (41) that VADER classifies as negative while TB considers posiive"
   ]
  },
  {
   "cell_type": "code",
   "execution_count": 36,
   "metadata": {},
   "outputs": [
    {
     "data": {
      "image/png": "[encoded data removed]",
      "text/plain": [
       "<matplotlib.figure.Figure at 0x1a17234be0>"
      ]
     },
     "metadata": {},
     "output_type": "display_data"
    }
   ],
   "source": [
    "# matplotlib histogram\n",
    "plt_data = testdata_sample[(testdata_sample.strict_VDR_polarity == 'neg') & (testdata_sample.strict_sent_TB_polarity == 'pos')]\n",
    "\n",
    "plt.hist(plt_data['strict_sent_mean_TB_score'], color = 'green', edgecolor = 'black', bins=20)\n",
    "\n",
    "# Add labels\n",
    "plt.title('Histogram of positive TB polarity scores that VADER considers negative')\n",
    "plt.xlabel('polarity score')\n",
    "plt.ylabel('frequency')\n",
    "\n",
    "plt.show()"
   ]
  },
  {
   "cell_type": "markdown",
   "metadata": {},
   "source": [
    "TB tends to classify more texts as positive than TextBlob.\n",
    "Now 35 texts were removed from the sample as conaining only objective sentences."
   ]
  },
  {
   "cell_type": "code",
   "execution_count": 41,
   "metadata": {},
   "outputs": [],
   "source": [
    "plt_data[['only_strict_polarity_sents', \n",
    "          'strict_VDR_SA_scores_sents', 'mean_strict_VDR_score', 'strict_VDR_polarity',\n",
    "          'strict_sents_TB_scores', 'strict_sent_mean_TB_score', 'strict_sent_TB_polarity']];"
   ]
  },
  {
   "cell_type": "code",
   "execution_count": 37,
   "metadata": {
    "collapsed": true
   },
   "outputs": [],
   "source": [
    "# save data\n",
    "testdata_sample.to_csv(\"/Users/alessia/Documents/DataScience/NLP_Project/Outputs/sa_q1_sample_testdata.csv\")"
   ]
  }
 ],
 "metadata": {
  "kernelspec": {
   "display_name": "Python 3",
   "language": "python",
   "name": "python3"
  },
  "language_info": {
   "codemirror_mode": {
    "name": "ipython",
    "version": 3
   },
   "file_extension": ".py",
   "mimetype": "text/x-python",
   "name": "python",
   "nbconvert_exporter": "python",
   "pygments_lexer": "ipython3",
   "version": "3.6.3"
  }
 },
 "nbformat": 4,
 "nbformat_minor": 2
}
