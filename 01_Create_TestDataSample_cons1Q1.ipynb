{
 "cells": [
  {
   "cell_type": "markdown",
   "metadata": {},
   "source": [
    "In this script, we will explore the distribution of participants according to main characteristics.\n",
    "\n",
    "The aim is to use stratified sampling instead of random sampling when splitting the original dataset into training and testing set for classification."
   ]
  },
  {
   "cell_type": "markdown",
   "metadata": {},
   "source": [
    "### 1. Imports and Set Up"
   ]
  },
  {
   "cell_type": "code",
   "execution_count": 115,
   "metadata": {
    "collapsed": true
   },
   "outputs": [],
   "source": [
    "import os\n",
    "import pandas as pd\n",
    "import numpy as np\n",
    "import matplotlib.pyplot as plt\n",
    "import seaborn as sns"
   ]
  },
  {
   "cell_type": "code",
   "execution_count": null,
   "metadata": {
    "collapsed": true
   },
   "outputs": [],
   "source": [
    "#### Set up working directory\n",
    "\n",
    "cwd = os.chdir('/Users/alessia/Documents/DataScience/NLP_Project/Outputs')"
   ]
  },
  {
   "cell_type": "code",
   "execution_count": 121,
   "metadata": {
    "collapsed": true
   },
   "outputs": [],
   "source": [
    "pd.set_option('display.max_colwidth', -1)"
   ]
  },
  {
   "cell_type": "markdown",
   "metadata": {},
   "source": [
    "### 2. Get Data"
   ]
  },
  {
   "cell_type": "code",
   "execution_count": 2,
   "metadata": {
    "collapsed": true
   },
   "outputs": [],
   "source": [
    "# Read in data (note header is spread over two rows)\n",
    "\n",
    "cons1_df = pd.read_csv(\"cons1_df.csv\")"
   ]
  },
  {
   "cell_type": "code",
   "execution_count": 3,
   "metadata": {
    "collapsed": true
   },
   "outputs": [],
   "source": [
    "# Explore data\n",
    "\n",
    "#[print(str(num) + ' = ' + question) for num, question in enumerate(cons1_df.columns)]"
   ]
  },
  {
   "cell_type": "markdown",
   "metadata": {
    "collapsed": true
   },
   "source": [
    "Key characteristics seem to be in columns:\n",
    "- 10 organisation vs. individual\n",
    "- 18 Public sector (also check 19)\n",
    "- 20 Private sector (also check 21)\n",
    "- 22 Other sectors\n",
    "\n",
    "Secondary characteristics we may want to look at:\n",
    "- 24-39 Type of use of pop and housing statstics"
   ]
  },
  {
   "cell_type": "markdown",
   "metadata": {},
   "source": [
    "### 3. Explore distribution of main characteristics"
   ]
  },
  {
   "cell_type": "code",
   "execution_count": 5,
   "metadata": {
    "scrolled": true
   },
   "outputs": [
    {
     "name": "stdout",
     "output_type": "stream",
     "text": [
      "Number of NaN: 23\n",
      "Individual      811\n",
      "Organisation    274\n",
      "Name: Are you responding on behalf of an organisation, or as an individual?Response, dtype: int64\n"
     ]
    }
   ],
   "source": [
    "# 10 = Are you responding on behalf of an organisation, or as an individual?Response\n",
    "\n",
    "print(\"Number of NaN: {}\".format(cons1_df.iloc[:, 10].isnull().sum()))\n",
    "print(cons1_df.iloc[:, 10].value_counts())"
   ]
  },
  {
   "cell_type": "code",
   "execution_count": 6,
   "metadata": {
    "collapsed": true
   },
   "outputs": [],
   "source": [
    "# 18 Public Sector\n",
    "#print(\"Number of NaN in Public sector: {}\".format(cons1_df.iloc[:, 18].isnull().sum()))\n",
    "#print(cons1_df.iloc[:, 18].value_counts())\n",
    "\n",
    "# 19 Public Sector\n",
    "#print(\"Number of other Public sectors: {}\".format(cons1_df.iloc[:, 19].count()))\n",
    "#print(cons1_df.iloc[:, 19].value_counts())\n",
    "\n",
    "\n",
    "# Could combine this into one variable call \"Public Sector\" (1 / 0) and another one \"Public sector type\" \n",
    "#(Local or sub-national government, Central government department or agency, University, Health, School or college, Other)"
   ]
  },
  {
   "cell_type": "code",
   "execution_count": 7,
   "metadata": {
    "collapsed": true
   },
   "outputs": [],
   "source": [
    "# 20 Private Sector\n",
    "#print(\"Number of NaN in Private Sector: {}\".format(cons1_df.iloc[:, 20].isnull().sum()))\n",
    "#print(cons1_df.iloc[:, 20].value_counts())\n",
    "\n",
    "# 21 Private Sector\n",
    "#print(\"Number of other Private sectors: {}\".format(cons1_df.iloc[:, 21].count()))\n",
    "#print(cons1_df.iloc[:, 21].value_counts())\n"
   ]
  },
  {
   "cell_type": "code",
   "execution_count": 8,
   "metadata": {},
   "outputs": [
    {
     "name": "stdout",
     "output_type": "stream",
     "text": [
      "Number of NaN: 1051\n",
      "Voluntary / Community / Non-profit    51\n",
      "Media                                  6\n",
      "Name: Other sectorsResponse, dtype: int64\n"
     ]
    }
   ],
   "source": [
    "# 18 Other Sectors\n",
    "print(\"Number of NaN: {}\".format(cons1_df.iloc[:, 22].isnull().sum()))\n",
    "print(cons1_df.iloc[:, 22].value_counts())"
   ]
  },
  {
   "cell_type": "code",
   "execution_count": 9,
   "metadata": {
    "collapsed": true
   },
   "outputs": [],
   "source": [
    "# Create a new dummy variable that tracks whether the record reported to be from Public Sector\n",
    "\n",
    "cond_PubSec = cons1_df.iloc[:,18].notnull() | cons1_df.iloc[:,19].notnull()\n",
    "\n",
    "cons1_df['PublicSector'] = [int(val) for val in cond_PubSec]"
   ]
  },
  {
   "cell_type": "code",
   "execution_count": 10,
   "metadata": {
    "scrolled": true
   },
   "outputs": [
    {
     "data": {
      "text/html": [
       "<div>\n",
       "<style>\n",
       "    .dataframe thead tr:only-child th {\n",
       "        text-align: right;\n",
       "    }\n",
       "\n",
       "    .dataframe thead th {\n",
       "        text-align: left;\n",
       "    }\n",
       "\n",
       "    .dataframe tbody tr th {\n",
       "        vertical-align: top;\n",
       "    }\n",
       "</style>\n",
       "<table border=\"1\" class=\"dataframe\">\n",
       "  <thead>\n",
       "    <tr style=\"text-align: right;\">\n",
       "      <th></th>\n",
       "      <th>Public sectorResponse</th>\n",
       "      <th>Public sectorOther public sector (please specify)</th>\n",
       "      <th>PublicSector</th>\n",
       "    </tr>\n",
       "  </thead>\n",
       "  <tbody>\n",
       "    <tr>\n",
       "      <th>0</th>\n",
       "      <td>NaN</td>\n",
       "      <td>NaN</td>\n",
       "      <td>0</td>\n",
       "    </tr>\n",
       "    <tr>\n",
       "      <th>1</th>\n",
       "      <td>NaN</td>\n",
       "      <td>NaN</td>\n",
       "      <td>0</td>\n",
       "    </tr>\n",
       "    <tr>\n",
       "      <th>2</th>\n",
       "      <td>NaN</td>\n",
       "      <td>NaN</td>\n",
       "      <td>0</td>\n",
       "    </tr>\n",
       "    <tr>\n",
       "      <th>3</th>\n",
       "      <td>NaN</td>\n",
       "      <td>NaN</td>\n",
       "      <td>0</td>\n",
       "    </tr>\n",
       "    <tr>\n",
       "      <th>4</th>\n",
       "      <td>Local or sub-national government</td>\n",
       "      <td>NaN</td>\n",
       "      <td>1</td>\n",
       "    </tr>\n",
       "  </tbody>\n",
       "</table>\n",
       "</div>"
      ],
      "text/plain": [
       "              Public sectorResponse  \\\n",
       "0                               NaN   \n",
       "1                               NaN   \n",
       "2                               NaN   \n",
       "3                               NaN   \n",
       "4  Local or sub-national government   \n",
       "\n",
       "  Public sectorOther public sector (please specify)  PublicSector  \n",
       "0                                               NaN             0  \n",
       "1                                               NaN             0  \n",
       "2                                               NaN             0  \n",
       "3                                               NaN             0  \n",
       "4                                               NaN             1  "
      ]
     },
     "execution_count": 10,
     "metadata": {},
     "output_type": "execute_result"
    }
   ],
   "source": [
    "# check\n",
    "cons1_df.iloc[:, [18, 19, -1]].head()"
   ]
  },
  {
   "cell_type": "code",
   "execution_count": 11,
   "metadata": {
    "collapsed": true
   },
   "outputs": [],
   "source": [
    "# Create a new dummy variable that tracks whether the record reported to be from Private Sector\n",
    "\n",
    "cond_PrvSec = cons1_df.iloc[:,20].notnull() | cons1_df.iloc[:,21].notnull()\n",
    "\n",
    "cons1_df['PrivateSector'] = [int(val) for val in cond_PrvSec]"
   ]
  },
  {
   "cell_type": "code",
   "execution_count": 12,
   "metadata": {
    "scrolled": true
   },
   "outputs": [
    {
     "data": {
      "text/html": [
       "<div>\n",
       "<style>\n",
       "    .dataframe thead tr:only-child th {\n",
       "        text-align: right;\n",
       "    }\n",
       "\n",
       "    .dataframe thead th {\n",
       "        text-align: left;\n",
       "    }\n",
       "\n",
       "    .dataframe tbody tr th {\n",
       "        vertical-align: top;\n",
       "    }\n",
       "</style>\n",
       "<table border=\"1\" class=\"dataframe\">\n",
       "  <thead>\n",
       "    <tr style=\"text-align: right;\">\n",
       "      <th></th>\n",
       "      <th>Private sectorResponse</th>\n",
       "      <th>Private sectorOther private sector (please specify)</th>\n",
       "      <th>PrivateSector</th>\n",
       "    </tr>\n",
       "  </thead>\n",
       "  <tbody>\n",
       "    <tr>\n",
       "      <th>0</th>\n",
       "      <td>NaN</td>\n",
       "      <td>NaN</td>\n",
       "      <td>0</td>\n",
       "    </tr>\n",
       "    <tr>\n",
       "      <th>1</th>\n",
       "      <td>NaN</td>\n",
       "      <td>NaN</td>\n",
       "      <td>0</td>\n",
       "    </tr>\n",
       "    <tr>\n",
       "      <th>2</th>\n",
       "      <td>NaN</td>\n",
       "      <td>NaN</td>\n",
       "      <td>0</td>\n",
       "    </tr>\n",
       "    <tr>\n",
       "      <th>3</th>\n",
       "      <td>NaN</td>\n",
       "      <td>Market Research</td>\n",
       "      <td>1</td>\n",
       "    </tr>\n",
       "    <tr>\n",
       "      <th>4</th>\n",
       "      <td>NaN</td>\n",
       "      <td>NaN</td>\n",
       "      <td>0</td>\n",
       "    </tr>\n",
       "  </tbody>\n",
       "</table>\n",
       "</div>"
      ],
      "text/plain": [
       "  Private sectorResponse Private sectorOther private sector (please specify)  \\\n",
       "0                    NaN                                                NaN    \n",
       "1                    NaN                                                NaN    \n",
       "2                    NaN                                                NaN    \n",
       "3                    NaN                                    Market Research    \n",
       "4                    NaN                                                NaN    \n",
       "\n",
       "   PrivateSector  \n",
       "0              0  \n",
       "1              0  \n",
       "2              0  \n",
       "3              1  \n",
       "4              0  "
      ]
     },
     "execution_count": 12,
     "metadata": {},
     "output_type": "execute_result"
    }
   ],
   "source": [
    "# check\n",
    "cons1_df.iloc[:, [20, 21, -1]].head()"
   ]
  },
  {
   "cell_type": "code",
   "execution_count": 13,
   "metadata": {
    "collapsed": true
   },
   "outputs": [],
   "source": [
    "# Create a new dummy variable that tracks whether the record reported to be from Other Sectors (neither Public nor Public)\n",
    "\n",
    "cond_OthSec = cons1_df.iloc[:,22].notnull()\n",
    "\n",
    "cons1_df['OtherSectors'] = [int(val) for val in cond_OthSec]"
   ]
  },
  {
   "cell_type": "code",
   "execution_count": 14,
   "metadata": {},
   "outputs": [
    {
     "data": {
      "text/html": [
       "<div>\n",
       "<style>\n",
       "    .dataframe thead tr:only-child th {\n",
       "        text-align: right;\n",
       "    }\n",
       "\n",
       "    .dataframe thead th {\n",
       "        text-align: left;\n",
       "    }\n",
       "\n",
       "    .dataframe tbody tr th {\n",
       "        vertical-align: top;\n",
       "    }\n",
       "</style>\n",
       "<table border=\"1\" class=\"dataframe\">\n",
       "  <thead>\n",
       "    <tr style=\"text-align: right;\">\n",
       "      <th></th>\n",
       "      <th>Other sectorsResponse</th>\n",
       "      <th>OtherSectors</th>\n",
       "    </tr>\n",
       "  </thead>\n",
       "  <tbody>\n",
       "    <tr>\n",
       "      <th>0</th>\n",
       "      <td>NaN</td>\n",
       "      <td>0</td>\n",
       "    </tr>\n",
       "    <tr>\n",
       "      <th>1</th>\n",
       "      <td>NaN</td>\n",
       "      <td>0</td>\n",
       "    </tr>\n",
       "    <tr>\n",
       "      <th>2</th>\n",
       "      <td>NaN</td>\n",
       "      <td>0</td>\n",
       "    </tr>\n",
       "    <tr>\n",
       "      <th>3</th>\n",
       "      <td>NaN</td>\n",
       "      <td>0</td>\n",
       "    </tr>\n",
       "    <tr>\n",
       "      <th>4</th>\n",
       "      <td>NaN</td>\n",
       "      <td>0</td>\n",
       "    </tr>\n",
       "    <tr>\n",
       "      <th>5</th>\n",
       "      <td>Voluntary / Community / Non-profit</td>\n",
       "      <td>1</td>\n",
       "    </tr>\n",
       "    <tr>\n",
       "      <th>6</th>\n",
       "      <td>NaN</td>\n",
       "      <td>0</td>\n",
       "    </tr>\n",
       "    <tr>\n",
       "      <th>7</th>\n",
       "      <td>NaN</td>\n",
       "      <td>0</td>\n",
       "    </tr>\n",
       "    <tr>\n",
       "      <th>8</th>\n",
       "      <td>NaN</td>\n",
       "      <td>0</td>\n",
       "    </tr>\n",
       "    <tr>\n",
       "      <th>9</th>\n",
       "      <td>NaN</td>\n",
       "      <td>0</td>\n",
       "    </tr>\n",
       "  </tbody>\n",
       "</table>\n",
       "</div>"
      ],
      "text/plain": [
       "                Other sectorsResponse  OtherSectors\n",
       "0                                 NaN             0\n",
       "1                                 NaN             0\n",
       "2                                 NaN             0\n",
       "3                                 NaN             0\n",
       "4                                 NaN             0\n",
       "5  Voluntary / Community / Non-profit             1\n",
       "6                                 NaN             0\n",
       "7                                 NaN             0\n",
       "8                                 NaN             0\n",
       "9                                 NaN             0"
      ]
     },
     "execution_count": 14,
     "metadata": {},
     "output_type": "execute_result"
    }
   ],
   "source": [
    "# check\n",
    "cons1_df.iloc[:, [22, -1]].head(10)"
   ]
  },
  {
   "cell_type": "code",
   "execution_count": 15,
   "metadata": {},
   "outputs": [
    {
     "data": {
      "text/html": [
       "<div>\n",
       "<style>\n",
       "    .dataframe thead tr:only-child th {\n",
       "        text-align: right;\n",
       "    }\n",
       "\n",
       "    .dataframe thead th {\n",
       "        text-align: left;\n",
       "    }\n",
       "\n",
       "    .dataframe tbody tr th {\n",
       "        vertical-align: top;\n",
       "    }\n",
       "</style>\n",
       "<table border=\"1\" class=\"dataframe\">\n",
       "  <thead>\n",
       "    <tr style=\"text-align: right;\">\n",
       "      <th></th>\n",
       "      <th>OtherSectors</th>\n",
       "      <th>0</th>\n",
       "      <th>1</th>\n",
       "      <th>All</th>\n",
       "    </tr>\n",
       "    <tr>\n",
       "      <th>PublicSector</th>\n",
       "      <th>PrivateSector</th>\n",
       "      <th></th>\n",
       "      <th></th>\n",
       "      <th></th>\n",
       "    </tr>\n",
       "  </thead>\n",
       "  <tbody>\n",
       "    <tr>\n",
       "      <th rowspan=\"2\" valign=\"top\">0</th>\n",
       "      <th>0</th>\n",
       "      <td>849</td>\n",
       "      <td>53</td>\n",
       "      <td>902</td>\n",
       "    </tr>\n",
       "    <tr>\n",
       "      <th>1</th>\n",
       "      <td>22</td>\n",
       "      <td>1</td>\n",
       "      <td>23</td>\n",
       "    </tr>\n",
       "    <tr>\n",
       "      <th rowspan=\"2\" valign=\"top\">1</th>\n",
       "      <th>0</th>\n",
       "      <td>177</td>\n",
       "      <td>1</td>\n",
       "      <td>178</td>\n",
       "    </tr>\n",
       "    <tr>\n",
       "      <th>1</th>\n",
       "      <td>3</td>\n",
       "      <td>2</td>\n",
       "      <td>5</td>\n",
       "    </tr>\n",
       "    <tr>\n",
       "      <th>All</th>\n",
       "      <th></th>\n",
       "      <td>1051</td>\n",
       "      <td>57</td>\n",
       "      <td>1108</td>\n",
       "    </tr>\n",
       "  </tbody>\n",
       "</table>\n",
       "</div>"
      ],
      "text/plain": [
       "OtherSectors                   0   1   All\n",
       "PublicSector PrivateSector                \n",
       "0            0               849  53   902\n",
       "             1                22   1    23\n",
       "1            0               177   1   178\n",
       "             1                 3   2     5\n",
       "All                         1051  57  1108"
      ]
     },
     "execution_count": 15,
     "metadata": {},
     "output_type": "execute_result"
    }
   ],
   "source": [
    "# Crossabs across the 3 main Sector classes\n",
    "pd.crosstab([cons1_df.iloc[:,-3], cons1_df.iloc[:,-2]], cons1_df.iloc[:,-1], margins=True)   #"
   ]
  },
  {
   "cell_type": "code",
   "execution_count": 129,
   "metadata": {
    "collapsed": true
   },
   "outputs": [],
   "source": [
    "# 7 respondents selected from more than one Sector type, so their sector class is ambiguous..."
   ]
  },
  {
   "cell_type": "markdown",
   "metadata": {},
   "source": [
    "### 4. Get VADER polarity score for each cell text, to use for stratified sampling"
   ]
  },
  {
   "cell_type": "code",
   "execution_count": 16,
   "metadata": {
    "collapsed": true
   },
   "outputs": [],
   "source": [
    "cwd = os.chdir('/Users/alessia/Documents/DataScience/textconsultations/')"
   ]
  },
  {
   "cell_type": "code",
   "execution_count": 17,
   "metadata": {},
   "outputs": [
    {
     "data": {
      "text/plain": [
       "['nlpfunctions', 'tutorial', 'README.md', '.git']"
      ]
     },
     "execution_count": 17,
     "metadata": {},
     "output_type": "execute_result"
    }
   ],
   "source": [
    "os.listdir()"
   ]
  },
  {
   "cell_type": "code",
   "execution_count": 37,
   "metadata": {},
   "outputs": [],
   "source": [
    "os.listdir('nlpfunctions');"
   ]
  },
  {
   "cell_type": "code",
   "execution_count": 19,
   "metadata": {},
   "outputs": [
    {
     "name": "stderr",
     "output_type": "stream",
     "text": [
      "/Users/alessia/anaconda3/lib/python3.6/site-packages/nltk/twitter/__init__.py:20: UserWarning: The twython library has not been installed. Some functionality from the twitter package will not be available.\n",
      "  warnings.warn(\"The twython library has not been installed. \"\n"
     ]
    }
   ],
   "source": [
    "import nlpfunctions.basic_NLP_functions as b_nlp"
   ]
  },
  {
   "cell_type": "markdown",
   "metadata": {},
   "source": [
    "Take a look at the user-defined basic NLP functions"
   ]
  },
  {
   "cell_type": "code",
   "execution_count": 20,
   "metadata": {},
   "outputs": [
    {
     "data": {
      "text/plain": [
       "['POS_tagging_df',\n",
       " 'SentimentIntensityAnalyzer',\n",
       " 'TextBlob',\n",
       " 'WordNetLemmatizer',\n",
       " '__builtins__',\n",
       " '__cached__',\n",
       " '__doc__',\n",
       " '__file__',\n",
       " '__loader__',\n",
       " '__name__',\n",
       " '__package__',\n",
       " '__spec__',\n",
       " 'analyser',\n",
       " 'break_words_df',\n",
       " 'classify_subjectivity_df',\n",
       " 'fix_neg_aux_df',\n",
       " 'get_sentiment_score_df',\n",
       " 'get_subjectivity_df',\n",
       " 'get_textblob_sentiment_score_df',\n",
       " 'get_wordnet_pos',\n",
       " 'lemmatise_df',\n",
       " 'list2string_df',\n",
       " 'np',\n",
       " 'pd',\n",
       " 'pos_tag',\n",
       " 'remove_objective_sents_df',\n",
       " 'remove_punctuation_df',\n",
       " 'remove_stopwords_df',\n",
       " 'rescale_to_01_df',\n",
       " 'sent_tokenise_df',\n",
       " 'sent_tokenize',\n",
       " 'stopwords',\n",
       " 'string',\n",
       " 'word_detokenise_sent_df',\n",
       " 'word_tokenise_df',\n",
       " 'word_tokenize',\n",
       " 'wordnet',\n",
       " 'wordnet_lemmatiser']"
      ]
     },
     "execution_count": 20,
     "metadata": {},
     "output_type": "execute_result"
    }
   ],
   "source": [
    "dir(b_nlp)"
   ]
  },
  {
   "cell_type": "markdown",
   "metadata": {},
   "source": [
    "Let's rename the column that contains the relevant question"
   ]
  },
  {
   "cell_type": "code",
   "execution_count": 21,
   "metadata": {
    "collapsed": true
   },
   "outputs": [],
   "source": [
    "idx_Q1 = cons1_df.columns.get_loc(str([col for col in cons1_df if 'census methods' in str(col)][0]))"
   ]
  },
  {
   "cell_type": "code",
   "execution_count": 22,
   "metadata": {},
   "outputs": [
    {
     "data": {
      "text/plain": [
       "'1. What are your views of the different census methods described in the consultation document?Open-Ended Response'"
      ]
     },
     "execution_count": 22,
     "metadata": {},
     "output_type": "execute_result"
    }
   ],
   "source": [
    "cons1_df.columns[idx_Q1]"
   ]
  },
  {
   "cell_type": "code",
   "execution_count": 23,
   "metadata": {
    "collapsed": true
   },
   "outputs": [],
   "source": [
    "cons1_df.rename(columns = {'1. What are your views of the different census methods described in the consultation document?Open-Ended Response':'Q1_census_methods'}, inplace = True) "
   ]
  },
  {
   "cell_type": "markdown",
   "metadata": {},
   "source": [
    "Sentence-tokenise text"
   ]
  },
  {
   "cell_type": "code",
   "execution_count": 24,
   "metadata": {
    "collapsed": true,
    "scrolled": true
   },
   "outputs": [],
   "source": [
    "cons1_df['Q1_census_methods']; #ok"
   ]
  },
  {
   "cell_type": "code",
   "execution_count": 25,
   "metadata": {},
   "outputs": [
    {
     "name": "stdout",
     "output_type": "stream",
     "text": [
      "Number of NaN in Q1: 372\n"
     ]
    },
    {
     "data": {
      "text/plain": [
       "(1108, 54)"
      ]
     },
     "execution_count": 25,
     "metadata": {},
     "output_type": "execute_result"
    }
   ],
   "source": [
    "print(\"Number of NaN in Q1: {}\".format(cons1_df['Q1_census_methods'].isnull().sum()))  #372 NaN\n",
    "cons1_df.shape"
   ]
  },
  {
   "cell_type": "code",
   "execution_count": 26,
   "metadata": {},
   "outputs": [
    {
     "data": {
      "text/plain": [
       "pandas.core.series.Series"
      ]
     },
     "execution_count": 26,
     "metadata": {},
     "output_type": "execute_result"
    }
   ],
   "source": [
    "type(cons1_df['Q1_census_methods'])"
   ]
  },
  {
   "cell_type": "code",
   "execution_count": 141,
   "metadata": {},
   "outputs": [
    {
     "data": {
      "text/plain": [
       "0                                                  NaN\n",
       "1                                                  NaN\n",
       "2                                                  NaN\n",
       "3    Moving to a primarily online census: an inevit...\n",
       "4    A regular full population census is absolutely...\n",
       "Name: Q1_census_methods, dtype: object"
      ]
     },
     "execution_count": 141,
     "metadata": {},
     "output_type": "execute_result"
    }
   ],
   "source": [
    "cons1_df['Q1_census_methods'].head()"
   ]
  },
  {
   "cell_type": "code",
   "execution_count": 27,
   "metadata": {},
   "outputs": [
    {
     "name": "stdout",
     "output_type": "stream",
     "text": [
      "<class 'float'>\n",
      "<class 'float'>\n",
      "<class 'float'>\n",
      "<class 'str'>\n",
      "<class 'str'>\n"
     ]
    },
    {
     "data": {
      "text/plain": [
       "[None, None, None, None, None]"
      ]
     },
     "execution_count": 27,
     "metadata": {},
     "output_type": "execute_result"
    }
   ],
   "source": [
    "[print(type(cell)) for cell in cons1_df['Q1_census_methods'].head()]"
   ]
  },
  {
   "cell_type": "code",
   "execution_count": 30,
   "metadata": {},
   "outputs": [],
   "source": [
    "cons1_df['sent_tok_text'] = cons1_df['Q1_census_methods'].apply(lambda x: b_nlp.sent_tokenise_df(x))"
   ]
  },
  {
   "cell_type": "code",
   "execution_count": 33,
   "metadata": {},
   "outputs": [],
   "source": [
    "#check\n",
    "cons1_df['sent_tok_text'];"
   ]
  },
  {
   "cell_type": "markdown",
   "metadata": {},
   "source": [
    "#### Calculate VADER polarity score for each sentence in each cell/answer"
   ]
  },
  {
   "cell_type": "code",
   "execution_count": 35,
   "metadata": {
    "collapsed": true
   },
   "outputs": [],
   "source": [
    "cons1_df['SA_scores_sents'] = cons1_df['sent_tok_text'].apply(lambda x: b_nlp.get_sentiment_score_df(x))"
   ]
  },
  {
   "cell_type": "markdown",
   "metadata": {},
   "source": [
    "#### Take the mean polarity score for each cell (aggregating the scores of all the sentences within that cell)"
   ]
  },
  {
   "cell_type": "code",
   "execution_count": 36,
   "metadata": {
    "collapsed": true
   },
   "outputs": [],
   "source": [
    "# take the average for each cell/text\n",
    "cons1_df['mean_SA_scores'] = cons1_df['SA_scores_sents'].apply(lambda x: np.mean(x))"
   ]
  },
  {
   "cell_type": "markdown",
   "metadata": {},
   "source": [
    "#### Classify mean score as positive (if above 0) or negative (if below 0)"
   ]
  },
  {
   "cell_type": "code",
   "execution_count": 38,
   "metadata": {
    "collapsed": true
   },
   "outputs": [],
   "source": [
    "cons1_df['SA_polarity'] = cons1_df['mean_SA_scores'].apply(lambda x: 'pos' if x > 0 else 'neg' if x < 0 else \"\")"
   ]
  },
  {
   "cell_type": "code",
   "execution_count": 39,
   "metadata": {},
   "outputs": [
    {
     "data": {
      "text/html": [
       "<div>\n",
       "<style>\n",
       "    .dataframe thead tr:only-child th {\n",
       "        text-align: right;\n",
       "    }\n",
       "\n",
       "    .dataframe thead th {\n",
       "        text-align: left;\n",
       "    }\n",
       "\n",
       "    .dataframe tbody tr th {\n",
       "        vertical-align: top;\n",
       "    }\n",
       "</style>\n",
       "<table border=\"1\" class=\"dataframe\">\n",
       "  <thead>\n",
       "    <tr style=\"text-align: right;\">\n",
       "      <th></th>\n",
       "      <th>SA_scores_sents</th>\n",
       "      <th>mean_SA_scores</th>\n",
       "      <th>SA_polarity</th>\n",
       "    </tr>\n",
       "  </thead>\n",
       "  <tbody>\n",
       "    <tr>\n",
       "      <th>0</th>\n",
       "      <td>NaN</td>\n",
       "      <td>NaN</td>\n",
       "      <td></td>\n",
       "    </tr>\n",
       "    <tr>\n",
       "      <th>1</th>\n",
       "      <td>NaN</td>\n",
       "      <td>NaN</td>\n",
       "      <td></td>\n",
       "    </tr>\n",
       "    <tr>\n",
       "      <th>2</th>\n",
       "      <td>NaN</td>\n",
       "      <td>NaN</td>\n",
       "      <td></td>\n",
       "    </tr>\n",
       "    <tr>\n",
       "      <th>3</th>\n",
       "      <td>[0.0, -0.4585]</td>\n",
       "      <td>-0.229250</td>\n",
       "      <td>neg</td>\n",
       "    </tr>\n",
       "    <tr>\n",
       "      <th>4</th>\n",
       "      <td>[0.0, 0.3818, 0.0, 0.4404, 0.0, 0.0, 0.4404, 0...</td>\n",
       "      <td>0.257857</td>\n",
       "      <td>pos</td>\n",
       "    </tr>\n",
       "    <tr>\n",
       "      <th>5</th>\n",
       "      <td>[0.743, 0.3818, 0.4588, 0.34, 0.7845]</td>\n",
       "      <td>0.541620</td>\n",
       "      <td>pos</td>\n",
       "    </tr>\n",
       "    <tr>\n",
       "      <th>6</th>\n",
       "      <td>NaN</td>\n",
       "      <td>NaN</td>\n",
       "      <td></td>\n",
       "    </tr>\n",
       "    <tr>\n",
       "      <th>7</th>\n",
       "      <td>[0.3612, -0.743, 0.0, 0.4939, 0.0, 0.6802, -0....</td>\n",
       "      <td>0.055771</td>\n",
       "      <td>pos</td>\n",
       "    </tr>\n",
       "    <tr>\n",
       "      <th>8</th>\n",
       "      <td>[0.0, 0.3818, 0.3182, -0.6124]</td>\n",
       "      <td>0.021900</td>\n",
       "      <td>pos</td>\n",
       "    </tr>\n",
       "    <tr>\n",
       "      <th>9</th>\n",
       "      <td>[0.0, -0.3182, 0.9513, 0.631, 0.5994, 0.5994]</td>\n",
       "      <td>0.410483</td>\n",
       "      <td>pos</td>\n",
       "    </tr>\n",
       "  </tbody>\n",
       "</table>\n",
       "</div>"
      ],
      "text/plain": [
       "                                     SA_scores_sents  mean_SA_scores  \\\n",
       "0                                                NaN             NaN   \n",
       "1                                                NaN             NaN   \n",
       "2                                                NaN             NaN   \n",
       "3                                     [0.0, -0.4585]       -0.229250   \n",
       "4  [0.0, 0.3818, 0.0, 0.4404, 0.0, 0.0, 0.4404, 0...        0.257857   \n",
       "5              [0.743, 0.3818, 0.4588, 0.34, 0.7845]        0.541620   \n",
       "6                                                NaN             NaN   \n",
       "7  [0.3612, -0.743, 0.0, 0.4939, 0.0, 0.6802, -0....        0.055771   \n",
       "8                     [0.0, 0.3818, 0.3182, -0.6124]        0.021900   \n",
       "9      [0.0, -0.3182, 0.9513, 0.631, 0.5994, 0.5994]        0.410483   \n",
       "\n",
       "  SA_polarity  \n",
       "0              \n",
       "1              \n",
       "2              \n",
       "3         neg  \n",
       "4         pos  \n",
       "5         pos  \n",
       "6              \n",
       "7         pos  \n",
       "8         pos  \n",
       "9         pos  "
      ]
     },
     "execution_count": 39,
     "metadata": {},
     "output_type": "execute_result"
    }
   ],
   "source": [
    "cons1_df.iloc[:, -3:].head(10)"
   ]
  },
  {
   "cell_type": "code",
   "execution_count": 40,
   "metadata": {},
   "outputs": [
    {
     "data": {
      "text/plain": [
       "pos    535\n",
       "       440\n",
       "neg    133\n",
       "Name: SA_polarity, dtype: int64"
      ]
     },
     "execution_count": 40,
     "metadata": {},
     "output_type": "execute_result"
    }
   ],
   "source": [
    "cons1_df['SA_polarity'].value_counts()    #535 pos, 133 neg, \"\"440"
   ]
  },
  {
   "cell_type": "markdown",
   "metadata": {},
   "source": [
    "#### Some crosstabulations between answer's polarity and respondent's main characteristics"
   ]
  },
  {
   "cell_type": "code",
   "execution_count": 41,
   "metadata": {},
   "outputs": [
    {
     "data": {
      "text/html": [
       "<div>\n",
       "<style>\n",
       "    .dataframe thead tr:only-child th {\n",
       "        text-align: right;\n",
       "    }\n",
       "\n",
       "    .dataframe thead th {\n",
       "        text-align: left;\n",
       "    }\n",
       "\n",
       "    .dataframe tbody tr th {\n",
       "        vertical-align: top;\n",
       "    }\n",
       "</style>\n",
       "<table border=\"1\" class=\"dataframe\">\n",
       "  <thead>\n",
       "    <tr style=\"text-align: right;\">\n",
       "      <th>Are you responding on behalf of an organisation, or as an individual?Response</th>\n",
       "      <th>Individual</th>\n",
       "      <th>Organisation</th>\n",
       "    </tr>\n",
       "    <tr>\n",
       "      <th>SA_polarity</th>\n",
       "      <th></th>\n",
       "      <th></th>\n",
       "    </tr>\n",
       "  </thead>\n",
       "  <tbody>\n",
       "    <tr>\n",
       "      <th></th>\n",
       "      <td>378</td>\n",
       "      <td>46</td>\n",
       "    </tr>\n",
       "    <tr>\n",
       "      <th>neg</th>\n",
       "      <td>99</td>\n",
       "      <td>33</td>\n",
       "    </tr>\n",
       "    <tr>\n",
       "      <th>pos</th>\n",
       "      <td>334</td>\n",
       "      <td>195</td>\n",
       "    </tr>\n",
       "  </tbody>\n",
       "</table>\n",
       "</div>"
      ],
      "text/plain": [
       "Are you responding on behalf of an organisation, or as an individual?Response  Individual  \\\n",
       "SA_polarity                                                                                 \n",
       "                                                                                      378   \n",
       "neg                                                                                    99   \n",
       "pos                                                                                   334   \n",
       "\n",
       "Are you responding on behalf of an organisation, or as an individual?Response  Organisation  \n",
       "SA_polarity                                                                                  \n",
       "                                                                                         46  \n",
       "neg                                                                                      33  \n",
       "pos                                                                                     195  "
      ]
     },
     "execution_count": 41,
     "metadata": {},
     "output_type": "execute_result"
    }
   ],
   "source": [
    "# sample 100 positive and 100 negative sentence: 30% from organisations, 70% from individuals\n",
    "pd.crosstab(cons1_df['SA_polarity'], cons1_df['Are you responding on behalf of an organisation, or as an individual?Response'])"
   ]
  },
  {
   "cell_type": "markdown",
   "metadata": {},
   "source": [
    "### 5. Create Stratified random sample for test data"
   ]
  },
  {
   "cell_type": "code",
   "execution_count": 42,
   "metadata": {
    "collapsed": true
   },
   "outputs": [],
   "source": [
    "# create strata\n",
    "pos_org_cond = ((cons1_df['SA_polarity'] == 'pos') & (cons1_df['Are you responding on behalf of an organisation, or as an individual?Response'] == 'Organisation'))\n",
    "neg_org_cond = ((cons1_df['SA_polarity'] == 'neg') & (cons1_df['Are you responding on behalf of an organisation, or as an individual?Response'] == 'Organisation'))\n",
    "\n",
    "pos_ind_cond = ((cons1_df['SA_polarity'] == 'pos') & (cons1_df['Are you responding on behalf of an organisation, or as an individual?Response'] == 'Individual'))\n",
    "neg_ind_cond = ((cons1_df['SA_polarity'] == 'neg') & (cons1_df['Are you responding on behalf of an organisation, or as an individual?Response'] == 'Individual'))\n"
   ]
  },
  {
   "cell_type": "code",
   "execution_count": 43,
   "metadata": {
    "collapsed": true
   },
   "outputs": [],
   "source": [
    "# sample sentences\n",
    "import random\n",
    "random.seed(11)\n",
    "\n",
    "pos_org_sample = cons1_df[pos_org_cond].sample(30)\n",
    "neg_org_sample = cons1_df[neg_org_cond].sample(30)\n",
    "\n",
    "pos_ind_sample = cons1_df[pos_ind_cond].sample(70)\n",
    "neg_ind_sample = cons1_df[neg_ind_cond].sample(70)"
   ]
  },
  {
   "cell_type": "code",
   "execution_count": 44,
   "metadata": {},
   "outputs": [
    {
     "name": "stdout",
     "output_type": "stream",
     "text": [
      "30\n",
      "30\n",
      "70\n",
      "70\n"
     ]
    }
   ],
   "source": [
    "print(pos_org_sample.shape[0])\n",
    "print(neg_org_sample.shape[0])\n",
    "print(pos_ind_sample.shape[0])\n",
    "print(neg_ind_sample.shape[0])"
   ]
  },
  {
   "cell_type": "code",
   "execution_count": 45,
   "metadata": {
    "collapsed": true
   },
   "outputs": [],
   "source": [
    "datas = [pos_org_sample, neg_org_sample, pos_ind_sample, neg_ind_sample]\n",
    "\n",
    "sa_q1_sample = pd.concat(datas)"
   ]
  },
  {
   "cell_type": "code",
   "execution_count": 46,
   "metadata": {
    "collapsed": true
   },
   "outputs": [],
   "source": [
    "sa_q1_sample = sa_q1_sample.iloc[:, [1, 40, 10, -7, -6, -5, -4, -3, -2, -1]]"
   ]
  },
  {
   "cell_type": "code",
   "execution_count": 47,
   "metadata": {
    "collapsed": true
   },
   "outputs": [],
   "source": [
    "# DO NOT RUN\n",
    "#sa_q1_sample.to_csv(\"/Users/alessia/Documents/DataScience/NLP_Project/Outputs/sa_q1_sample.csv\")"
   ]
  },
  {
   "cell_type": "markdown",
   "metadata": {},
   "source": [
    "#### Add TextBlob polarity score"
   ]
  },
  {
   "cell_type": "code",
   "execution_count": 95,
   "metadata": {},
   "outputs": [],
   "source": [
    "sa_q1_sample['sent_tok_text'] = sa_q1_sample['Q1_census_methods'].apply(lambda x: b_nlp.sent_tokenise_df(x))"
   ]
  },
  {
   "cell_type": "code",
   "execution_count": 99,
   "metadata": {
    "scrolled": true
   },
   "outputs": [],
   "source": [
    "sa_q1_sample['textblob_SA_score_sents'] = sa_q1_sample['sent_tok_text'].apply(lambda x: b_nlp.get_textblob_sentiment_score_df(x))"
   ]
  },
  {
   "cell_type": "code",
   "execution_count": 101,
   "metadata": {},
   "outputs": [],
   "source": [
    "sa_q1_sample['textblob_mean_SA_score'] = sa_q1_sample['textblob_SA_score_sents'].apply(lambda x: np.mean(x))"
   ]
  },
  {
   "cell_type": "code",
   "execution_count": 103,
   "metadata": {},
   "outputs": [],
   "source": [
    "sa_q1_sample['textblob_polarity'] = sa_q1_sample['textblob_mean_SA_score'].apply(lambda x: 'pos' if x > 0 else 'neg' if x < 0 else \"\")"
   ]
  },
  {
   "cell_type": "code",
   "execution_count": 109,
   "metadata": {},
   "outputs": [],
   "source": [
    "sa_q1_sample[['textblob_polarity', 'SA_polarity', 'Q1_census_methods']];"
   ]
  },
  {
   "cell_type": "code",
   "execution_count": 105,
   "metadata": {},
   "outputs": [
    {
     "data": {
      "text/plain": [
       "Index(['Unnamed: 0', 'Respondent ID', 'Q1_census_methods',\n",
       "       'Are you responding on behalf of an organisation, or as an individual?Response',\n",
       "       'PublicSector', 'PrivateSector', 'OtherSectors', 'sent_tok_text',\n",
       "       'SA_scores_sents', 'mean_SA_scores', 'SA_polarity',\n",
       "       'textblob_SA_score_sents', 'textblob_mean_SA_score',\n",
       "       'textblob_polarity'],\n",
       "      dtype='object')"
      ]
     },
     "execution_count": 105,
     "metadata": {},
     "output_type": "execute_result"
    }
   ],
   "source": [
    "sa_q1_sample.columns"
   ]
  },
  {
   "cell_type": "code",
   "execution_count": 108,
   "metadata": {
    "collapsed": true
   },
   "outputs": [],
   "source": [
    "### re-save data\n",
    "# DO NOT RUN\n",
    "# sa_q1_sample.to_csv(\"/Users/alessia/Documents/DataScience/NLP_Project/Outputs/sa_q1_sample_2.csv\")"
   ]
  },
  {
   "cell_type": "markdown",
   "metadata": {},
   "source": [
    "#### Plot agreement between VADER and TextBlob polarity classification"
   ]
  },
  {
   "cell_type": "code",
   "execution_count": 117,
   "metadata": {},
   "outputs": [
    {
     "data": {
      "text/html": [
       "<div>\n",
       "<style>\n",
       "    .dataframe thead tr:only-child th {\n",
       "        text-align: right;\n",
       "    }\n",
       "\n",
       "    .dataframe thead th {\n",
       "        text-align: left;\n",
       "    }\n",
       "\n",
       "    .dataframe tbody tr th {\n",
       "        vertical-align: top;\n",
       "    }\n",
       "</style>\n",
       "<table border=\"1\" class=\"dataframe\">\n",
       "  <thead>\n",
       "    <tr style=\"text-align: right;\">\n",
       "      <th>textblob_polarity</th>\n",
       "      <th></th>\n",
       "      <th>neg</th>\n",
       "      <th>pos</th>\n",
       "    </tr>\n",
       "    <tr>\n",
       "      <th>SA_polarity</th>\n",
       "      <th></th>\n",
       "      <th></th>\n",
       "      <th></th>\n",
       "    </tr>\n",
       "  </thead>\n",
       "  <tbody>\n",
       "    <tr>\n",
       "      <th>neg</th>\n",
       "      <td>4</td>\n",
       "      <td>22</td>\n",
       "      <td>74</td>\n",
       "    </tr>\n",
       "    <tr>\n",
       "      <th>pos</th>\n",
       "      <td>3</td>\n",
       "      <td>5</td>\n",
       "      <td>92</td>\n",
       "    </tr>\n",
       "  </tbody>\n",
       "</table>\n",
       "</div>"
      ],
      "text/plain": [
       "textblob_polarity     neg  pos\n",
       "SA_polarity                   \n",
       "neg                4  22   74 \n",
       "pos                3  5    92 "
      ]
     },
     "execution_count": 117,
     "metadata": {},
     "output_type": "execute_result"
    }
   ],
   "source": [
    "pd.crosstab(sa_q1_sample['SA_polarity'], sa_q1_sample['textblob_polarity'])"
   ]
  },
  {
   "cell_type": "code",
   "execution_count": 119,
   "metadata": {},
   "outputs": [],
   "source": [
    "sa_q1_sample[sa_q1_sample['textblob_polarity'] == \"\"];\n",
    "# 7 answers that received a 0 from TextBlob (clearical inspections: 4 correctly given 0)"
   ]
  },
  {
   "cell_type": "code",
   "execution_count": 120,
   "metadata": {},
   "outputs": [
    {
     "data": {
      "text/plain": [
       "0.16908212560386471"
      ]
     },
     "execution_count": 120,
     "metadata": {},
     "output_type": "execute_result"
    }
   ],
   "source": [
    "from sklearn.metrics import cohen_kappa_score\n",
    "cohen_kappa_score(sa_q1_sample['SA_polarity'], sa_q1_sample['textblob_polarity']) "
   ]
  },
  {
   "cell_type": "code",
   "execution_count": null,
   "metadata": {
    "collapsed": true
   },
   "outputs": [],
   "source": []
  }
 ],
 "metadata": {
  "kernelspec": {
   "display_name": "Python 3",
   "language": "python",
   "name": "python3"
  },
  "language_info": {
   "codemirror_mode": {
    "name": "ipython",
    "version": 3
   },
   "file_extension": ".py",
   "mimetype": "text/x-python",
   "name": "python",
   "nbconvert_exporter": "python",
   "pygments_lexer": "ipython3",
   "version": "3.6.3"
  }
 },
 "nbformat": 4,
 "nbformat_minor": 2
}
