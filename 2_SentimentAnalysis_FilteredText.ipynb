{
 "cells": [
  {
   "cell_type": "markdown",
   "metadata": {},
   "source": [
    "#### INTRO"
   ]
  },
  {
   "cell_type": "markdown",
   "metadata": {},
   "source": [
    "In this script, we perform a Vader-based sentiment analysis of the answers to the consultation by first cleaning the text. Text cleaning is done by removing:\n",
    "- Punctuation (unlikley that emoticons are used in the context of an official consultation)\n",
    "- Non-alphabetic tokens\n",
    "- Stop-words (default set).\n",
    "\n",
    "We then compare the sentiment scores for the answers with and without stopwords."
   ]
  },
  {
   "cell_type": "markdown",
   "metadata": {},
   "source": [
    "#### Imports and Set Up"
   ]
  },
  {
   "cell_type": "code",
   "execution_count": 1,
   "metadata": {},
   "outputs": [
    {
     "name": "stderr",
     "output_type": "stream",
     "text": [
      "/Users/alessia/anaconda3/lib/python3.6/site-packages/nltk/twitter/__init__.py:20: UserWarning: The twython library has not been installed. Some functionality from the twitter package will not be available.\n",
      "  warnings.warn(\"The twython library has not been installed. \"\n"
     ]
    }
   ],
   "source": [
    "import os\n",
    "\n",
    "import numpy as np\n",
    "import pandas as pd\n",
    "import matplotlib.pyplot as plt\n",
    "\n",
    "from nltk.sentiment.vader import SentimentIntensityAnalyzer\n",
    "analyser = SentimentIntensityAnalyzer()\n",
    "\n",
    "from nltk.tokenize import sent_tokenize, word_tokenize\n",
    "from nltk.corpus import stopwords\n"
   ]
  },
  {
   "cell_type": "code",
   "execution_count": 2,
   "metadata": {
    "collapsed": true
   },
   "outputs": [],
   "source": [
    "cwd = os.chdir(\"/Users/alessia/Documents/DataScience/NLP_Project/Data\")\n",
    "cwd"
   ]
  },
  {
   "cell_type": "markdown",
   "metadata": {},
   "source": [
    "#### Get Data"
   ]
  },
  {
   "cell_type": "code",
   "execution_count": 3,
   "metadata": {
    "collapsed": true
   },
   "outputs": [],
   "source": [
    "cons1_df = pd.read_csv(\"/Users/alessia/Documents/DataScience/NLP_Project/Outputs/cons1_SA_df.csv\")"
   ]
  },
  {
   "cell_type": "code",
   "execution_count": 4,
   "metadata": {
    "collapsed": true
   },
   "outputs": [],
   "source": [
    "cons1_df.columns.values;"
   ]
  },
  {
   "cell_type": "markdown",
   "metadata": {},
   "source": [
    "#### Data manipulation: word tokenisation and text cleaning"
   ]
  },
  {
   "cell_type": "markdown",
   "metadata": {},
   "source": [
    "Select columns that contains the answers to be tokenised for punctuation-/non-alphabetic token-/stopword-removal and sentiment analysis."
   ]
  },
  {
   "cell_type": "code",
   "execution_count": 5,
   "metadata": {
    "collapsed": true
   },
   "outputs": [],
   "source": [
    "# Get columns' index\n",
    "idx_Q1 = cons1_df.columns.get_loc(str([col for col in cons1_df if 'census methods' in str(col)][0]))\n",
    "idx_Q4 = cons1_df.columns.get_loc(str([col for col in cons1_df if '4. 1. ' in str(col)][0]))\n",
    "idx_Q5 = cons1_df.columns.get_loc(str([col for col in cons1_df if '5. 1.' in str(col)][0]))\n",
    "idx_Q8 = cons1_df.columns.get_loc(str([col for col in cons1_df if '8.' in str(col)][0]))"
   ]
  },
  {
   "cell_type": "code",
   "execution_count": 6,
   "metadata": {
    "collapsed": true
   },
   "outputs": [],
   "source": [
    "# Save them in a dictionary\n",
    "col_idx_dict = {\"Q1_clean\":idx_Q1, \"Q4_clean\":idx_Q4, \"Q5_clean\":idx_Q5, \"Q8_clean\":idx_Q8}\n",
    "\n",
    "#print(col_idx_dict)\n",
    "#print(col_idx_dict.items())\n",
    "#print(col_idx_dict.values())"
   ]
  },
  {
   "cell_type": "code",
   "execution_count": 7,
   "metadata": {},
   "outputs": [
    {
     "name": "stdout",
     "output_type": "stream",
     "text": [
      "[40, 44, 46, 49]\n"
     ]
    }
   ],
   "source": [
    "#Checks\n",
    "print([idx_Q1, idx_Q4, idx_Q5, idx_Q8])\n",
    "cons1_df.iloc[:, [idx_Q1, idx_Q4, idx_Q5, idx_Q8]].head(2);"
   ]
  },
  {
   "cell_type": "markdown",
   "metadata": {},
   "source": [
    "Define function to clean text."
   ]
  },
  {
   "cell_type": "code",
   "execution_count": 8,
   "metadata": {
    "collapsed": true
   },
   "outputs": [],
   "source": [
    "# Define function to clean answer text\n",
    "import string\n",
    "\n",
    "from nltk.tokenize.moses import MosesDetokenizer\n",
    "            detokenizer = MosesDetokenizer()\n",
    "    \n",
    "\n",
    "def clean_text(data, col_ind, stop_words) :\n",
    "    \"\"\"Return cleaned text for the specified data columns: \n",
    "    removed punctuation, removed non-alphabetic tokens, removed stop-words\"\"\"\n",
    "    \n",
    "    import pandas as pd\n",
    "    from nltk.tokenize import word_tokenize\n",
    "    \n",
    "    # empty list collector\n",
    "    filtered_answer_bag = []\n",
    "    \n",
    "    for answer in data.iloc[:, col_ind] :   \n",
    "        \n",
    "        # no answer was provided, return NA\n",
    "        if pd.isnull(answer) : \n",
    "            filtered_answer_bag.append(np.nan)\n",
    "            \n",
    "            # an answer was provided    \n",
    "        else : \n",
    "                \n",
    "            # 1. word-tokenise the answer\n",
    "            words = word_tokenize(answer)\n",
    "        \n",
    "            # 2. convert to lower case\n",
    "            words = [w.lower() for w in words]\n",
    "        \n",
    "            # 3. remove punctuation from each word\n",
    "            table = str.maketrans('', '', string.punctuation)\n",
    "            words = [w.translate(table) for w in words]\n",
    "\n",
    "            # 4. remove remaining tokens that are not alphabetic\n",
    "            only_words = [w for w in words if w.isalpha()]\n",
    "\n",
    "            # 5. filter out stop words from each answer\n",
    "            filtered_answer = [w for w in only_words if not w in stop_words]\n",
    "        \n",
    "            # 6. untokenise the sentence: return one unique string for each answer in prep for sentiment analysis\n",
    "            filtered_answer = detokenizer.detokenize(filtered_answer, return_str=True)\n",
    "\n",
    "            filtered_answer_bag.append(filtered_answer)\n",
    "    \n",
    "    return(filtered_answer_bag)"
   ]
  },
  {
   "cell_type": "markdown",
   "metadata": {},
   "source": [
    "Clean the text."
   ]
  },
  {
   "cell_type": "code",
   "execution_count": 9,
   "metadata": {
    "collapsed": true
   },
   "outputs": [],
   "source": [
    "# Set stop words\n",
    "stop_words = set(stopwords.words('english'))\n",
    "\n",
    "# do we want to keep in \"no\"? \"yes\" is not a stopword..."
   ]
  },
  {
   "cell_type": "code",
   "execution_count": 10,
   "metadata": {
    "collapsed": true
   },
   "outputs": [],
   "source": [
    "# Create new dataset columns containing the cleaned texts\n",
    "\n",
    "for q, idx in col_idx_dict.items() :\n",
    "\n",
    "    result = clean_text(cons1_df, idx, stop_words = stop_words)\n",
    "    \n",
    "    cons1_df.loc[:, q] = result\n"
   ]
  },
  {
   "cell_type": "code",
   "execution_count": 11,
   "metadata": {
    "collapsed": true
   },
   "outputs": [],
   "source": [
    "# Checks\n",
    "cons1_df.columns.values;\n",
    "cons1_df.head(6);"
   ]
  },
  {
   "cell_type": "markdown",
   "metadata": {},
   "source": [
    "#### Sentiment Analysis on cleaned answers"
   ]
  },
  {
   "cell_type": "code",
   "execution_count": 1,
   "metadata": {},
   "outputs": [
    {
     "name": "stderr",
     "output_type": "stream",
     "text": [
      "/Users/alessia/anaconda3/lib/python3.6/site-packages/nltk/twitter/__init__.py:20: UserWarning: The twython library has not been installed. Some functionality from the twitter package will not be available.\n",
      "  warnings.warn(\"The twython library has not been installed. \"\n"
     ]
    }
   ],
   "source": [
    "# Define function to calculate polarity score for the answers in our dataset\n",
    "\n",
    "# import key modules\n",
    "from nltk.sentiment.vader import SentimentIntensityAnalyzer\n",
    "analyser = SentimentIntensityAnalyzer()\n",
    "    \n",
    "\n",
    "def get_sentiment_score(data, col_ind) :\n",
    "    \"\"\" Return list of polarity scores for values in the specified column \"\"\"\n",
    "    \n",
    "    # empty list collector of scores\n",
    "    sentiment_bag = []\n",
    "    \n",
    "    for answer in data.iloc[:, col_ind] :\n",
    "        \n",
    "        # no answer was provided, return NA\n",
    "        if pd.isnull(answer) : \n",
    "            sentiment_bag.append(np.nan)\n",
    "            \n",
    "        else :\n",
    "            sentiment_bag.append(analyser.polarity_scores(answer)['compound'])\n",
    "    \n",
    "    return(sentiment_bag)\n",
    "    "
   ]
  },
  {
   "cell_type": "code",
   "execution_count": 13,
   "metadata": {
    "collapsed": true
   },
   "outputs": [],
   "source": [
    "# Get columns' index\n",
    "idx_Q1 = cons1_df.columns.get_loc('Q1_clean')\n",
    "idx_Q4 = cons1_df.columns.get_loc('Q4_clean')\n",
    "idx_Q5 = cons1_df.columns.get_loc('Q5_clean')\n",
    "idx_Q8 = cons1_df.columns.get_loc('Q8_clean')"
   ]
  },
  {
   "cell_type": "code",
   "execution_count": 14,
   "metadata": {
    "collapsed": true
   },
   "outputs": [],
   "source": [
    "# Save them in a dictionary\n",
    "col_idx_dict = {\"Q1_cl_sentiment\":idx_Q1, \"Q4_cl_sentiment\":idx_Q4, \"Q5_cl_sentiment\":idx_Q5, \"Q8_cl_sentiment\":idx_Q8}\n",
    "\n",
    "#print(col_idx_dict)\n",
    "#print(col_idx_dict.items())\n",
    "#print(col_idx_dict.values())"
   ]
  },
  {
   "cell_type": "code",
   "execution_count": 15,
   "metadata": {
    "collapsed": true
   },
   "outputs": [],
   "source": [
    "# Create new dataset columns with sentiment polarity scores of cleaned answer texts\n",
    "\n",
    "for q, idx in col_idx_dict.items():\n",
    "    \n",
    "    result = get_sentiment_score(cons1_df, idx)\n",
    "    cons1_df.loc[:, q] = result"
   ]
  },
  {
   "cell_type": "code",
   "execution_count": 35,
   "metadata": {
    "collapsed": true
   },
   "outputs": [],
   "source": [
    "# Take a look at the result\n",
    "cons1_df.iloc[3:7:, [idx_Q1, -4, idx_Q4, -3, idx_Q5, -2, idx_Q8, -1]];\n",
    "cons1_df.loc[3:7:, [\"Q1_Sentiment\", \"Q1_cl_sentiment\",\"Q4_Sentiment\", \"Q4_cl_sentiment\",\n",
    "                          \"Q5_Sentiment\", \"Q5_cl_sentiment\",\"Q8_Sentiment\", \"Q8_cl_sentiment\"]];\n",
    "\n",
    "# some changed drammatically!!!!"
   ]
  },
  {
   "cell_type": "code",
   "execution_count": 17,
   "metadata": {},
   "outputs": [
    {
     "data": {
      "text/html": [
       "<div>\n",
       "<style>\n",
       "    .dataframe thead tr:only-child th {\n",
       "        text-align: right;\n",
       "    }\n",
       "\n",
       "    .dataframe thead th {\n",
       "        text-align: left;\n",
       "    }\n",
       "\n",
       "    .dataframe tbody tr th {\n",
       "        vertical-align: top;\n",
       "    }\n",
       "</style>\n",
       "<table border=\"1\" class=\"dataframe\">\n",
       "  <thead>\n",
       "    <tr style=\"text-align: right;\">\n",
       "      <th></th>\n",
       "      <th>Q1_Sentiment</th>\n",
       "      <th>Q1_cl_sentiment</th>\n",
       "      <th>Q4_Sentiment</th>\n",
       "      <th>Q4_cl_sentiment</th>\n",
       "      <th>Q5_Sentiment</th>\n",
       "      <th>Q5_cl_sentiment</th>\n",
       "      <th>Q8_Sentiment</th>\n",
       "      <th>Q8_cl_sentiment</th>\n",
       "    </tr>\n",
       "  </thead>\n",
       "  <tbody>\n",
       "    <tr>\n",
       "      <th>count</th>\n",
       "      <td>736.000000</td>\n",
       "      <td>736.000000</td>\n",
       "      <td>523.000000</td>\n",
       "      <td>523.000000</td>\n",
       "      <td>396.000000</td>\n",
       "      <td>396.000000</td>\n",
       "      <td>490.000000</td>\n",
       "      <td>490.000000</td>\n",
       "    </tr>\n",
       "    <tr>\n",
       "      <th>mean</th>\n",
       "      <td>0.388333</td>\n",
       "      <td>0.452973</td>\n",
       "      <td>0.073410</td>\n",
       "      <td>0.128613</td>\n",
       "      <td>0.338060</td>\n",
       "      <td>0.389064</td>\n",
       "      <td>0.092375</td>\n",
       "      <td>0.157662</td>\n",
       "    </tr>\n",
       "    <tr>\n",
       "      <th>std</th>\n",
       "      <td>0.523643</td>\n",
       "      <td>0.488071</td>\n",
       "      <td>0.515057</td>\n",
       "      <td>0.500117</td>\n",
       "      <td>0.425649</td>\n",
       "      <td>0.402639</td>\n",
       "      <td>0.575458</td>\n",
       "      <td>0.561832</td>\n",
       "    </tr>\n",
       "    <tr>\n",
       "      <th>min</th>\n",
       "      <td>-0.981700</td>\n",
       "      <td>-0.932500</td>\n",
       "      <td>-0.983000</td>\n",
       "      <td>-0.959500</td>\n",
       "      <td>-0.904200</td>\n",
       "      <td>-0.904200</td>\n",
       "      <td>-0.969100</td>\n",
       "      <td>-0.966300</td>\n",
       "    </tr>\n",
       "    <tr>\n",
       "      <th>25%</th>\n",
       "      <td>0.000000</td>\n",
       "      <td>0.000000</td>\n",
       "      <td>-0.318200</td>\n",
       "      <td>-0.226300</td>\n",
       "      <td>0.000000</td>\n",
       "      <td>0.000000</td>\n",
       "      <td>-0.361200</td>\n",
       "      <td>-0.273200</td>\n",
       "    </tr>\n",
       "    <tr>\n",
       "      <th>50%</th>\n",
       "      <td>0.493900</td>\n",
       "      <td>0.585900</td>\n",
       "      <td>0.000000</td>\n",
       "      <td>0.025800</td>\n",
       "      <td>0.440400</td>\n",
       "      <td>0.440400</td>\n",
       "      <td>0.000000</td>\n",
       "      <td>0.102700</td>\n",
       "    </tr>\n",
       "    <tr>\n",
       "      <th>75%</th>\n",
       "      <td>0.866425</td>\n",
       "      <td>0.880550</td>\n",
       "      <td>0.440400</td>\n",
       "      <td>0.503950</td>\n",
       "      <td>0.690275</td>\n",
       "      <td>0.700300</td>\n",
       "      <td>0.633900</td>\n",
       "      <td>0.690800</td>\n",
       "    </tr>\n",
       "    <tr>\n",
       "      <th>max</th>\n",
       "      <td>0.999800</td>\n",
       "      <td>0.999600</td>\n",
       "      <td>0.999900</td>\n",
       "      <td>0.999800</td>\n",
       "      <td>0.995400</td>\n",
       "      <td>0.997200</td>\n",
       "      <td>0.998800</td>\n",
       "      <td>0.998500</td>\n",
       "    </tr>\n",
       "  </tbody>\n",
       "</table>\n",
       "</div>"
      ],
      "text/plain": [
       "       Q1_Sentiment  Q1_cl_sentiment  Q4_Sentiment  Q4_cl_sentiment  \\\n",
       "count    736.000000       736.000000    523.000000       523.000000   \n",
       "mean       0.388333         0.452973      0.073410         0.128613   \n",
       "std        0.523643         0.488071      0.515057         0.500117   \n",
       "min       -0.981700        -0.932500     -0.983000        -0.959500   \n",
       "25%        0.000000         0.000000     -0.318200        -0.226300   \n",
       "50%        0.493900         0.585900      0.000000         0.025800   \n",
       "75%        0.866425         0.880550      0.440400         0.503950   \n",
       "max        0.999800         0.999600      0.999900         0.999800   \n",
       "\n",
       "       Q5_Sentiment  Q5_cl_sentiment  Q8_Sentiment  Q8_cl_sentiment  \n",
       "count    396.000000       396.000000    490.000000       490.000000  \n",
       "mean       0.338060         0.389064      0.092375         0.157662  \n",
       "std        0.425649         0.402639      0.575458         0.561832  \n",
       "min       -0.904200        -0.904200     -0.969100        -0.966300  \n",
       "25%        0.000000         0.000000     -0.361200        -0.273200  \n",
       "50%        0.440400         0.440400      0.000000         0.102700  \n",
       "75%        0.690275         0.700300      0.633900         0.690800  \n",
       "max        0.995400         0.997200      0.998800         0.998500  "
      ]
     },
     "execution_count": 17,
     "metadata": {},
     "output_type": "execute_result"
    }
   ],
   "source": [
    "# Summary satistics\n",
    "cons1_df.loc[:, [\"Q1_Sentiment\", \"Q1_cl_sentiment\",\"Q4_Sentiment\", \"Q4_cl_sentiment\",\n",
    "                          \"Q5_Sentiment\", \"Q5_cl_sentiment\",\"Q8_Sentiment\", \"Q8_cl_sentiment\"]].describe()"
   ]
  },
  {
   "cell_type": "markdown",
   "metadata": {},
   "source": [
    "#### Comparison of the two sentiment scores and Validation"
   ]
  },
  {
   "cell_type": "code",
   "execution_count": 30,
   "metadata": {},
   "outputs": [
    {
     "data": {
      "text/html": [
       "<div>\n",
       "<style>\n",
       "    .dataframe thead tr:only-child th {\n",
       "        text-align: right;\n",
       "    }\n",
       "\n",
       "    .dataframe thead th {\n",
       "        text-align: left;\n",
       "    }\n",
       "\n",
       "    .dataframe tbody tr th {\n",
       "        vertical-align: top;\n",
       "    }\n",
       "</style>\n",
       "<table border=\"1\" class=\"dataframe\">\n",
       "  <thead>\n",
       "    <tr style=\"text-align: right;\">\n",
       "      <th></th>\n",
       "      <th>Q1_cl_sentiment</th>\n",
       "    </tr>\n",
       "  </thead>\n",
       "  <tbody>\n",
       "    <tr>\n",
       "      <th>Q1_Sentiment</th>\n",
       "      <td>0.850235</td>\n",
       "    </tr>\n",
       "  </tbody>\n",
       "</table>\n",
       "</div>"
      ],
      "text/plain": [
       "              Q1_cl_sentiment\n",
       "Q1_Sentiment         0.850235"
      ]
     },
     "execution_count": 30,
     "metadata": {},
     "output_type": "execute_result"
    }
   ],
   "source": [
    "# pairwise correlations\n",
    "cons1_df.loc[:, [\"Q1_Sentiment\", \"Q1_cl_sentiment\"]].corr(method='pearson').iloc[:1,1:]"
   ]
  },
  {
   "cell_type": "code",
   "execution_count": 31,
   "metadata": {},
   "outputs": [
    {
     "data": {
      "text/html": [
       "<div>\n",
       "<style>\n",
       "    .dataframe thead tr:only-child th {\n",
       "        text-align: right;\n",
       "    }\n",
       "\n",
       "    .dataframe thead th {\n",
       "        text-align: left;\n",
       "    }\n",
       "\n",
       "    .dataframe tbody tr th {\n",
       "        vertical-align: top;\n",
       "    }\n",
       "</style>\n",
       "<table border=\"1\" class=\"dataframe\">\n",
       "  <thead>\n",
       "    <tr style=\"text-align: right;\">\n",
       "      <th></th>\n",
       "      <th>Q4_cl_sentiment</th>\n",
       "    </tr>\n",
       "  </thead>\n",
       "  <tbody>\n",
       "    <tr>\n",
       "      <th>Q4_Sentiment</th>\n",
       "      <td>0.90749</td>\n",
       "    </tr>\n",
       "  </tbody>\n",
       "</table>\n",
       "</div>"
      ],
      "text/plain": [
       "              Q4_cl_sentiment\n",
       "Q4_Sentiment          0.90749"
      ]
     },
     "execution_count": 31,
     "metadata": {},
     "output_type": "execute_result"
    }
   ],
   "source": [
    "cons1_df.loc[:, [\"Q4_Sentiment\", \"Q4_cl_sentiment\"]].corr(method='pearson').iloc[:1,1:]"
   ]
  },
  {
   "cell_type": "code",
   "execution_count": 32,
   "metadata": {},
   "outputs": [
    {
     "data": {
      "text/html": [
       "<div>\n",
       "<style>\n",
       "    .dataframe thead tr:only-child th {\n",
       "        text-align: right;\n",
       "    }\n",
       "\n",
       "    .dataframe thead th {\n",
       "        text-align: left;\n",
       "    }\n",
       "\n",
       "    .dataframe tbody tr th {\n",
       "        vertical-align: top;\n",
       "    }\n",
       "</style>\n",
       "<table border=\"1\" class=\"dataframe\">\n",
       "  <thead>\n",
       "    <tr style=\"text-align: right;\">\n",
       "      <th></th>\n",
       "      <th>Q5_cl_sentiment</th>\n",
       "    </tr>\n",
       "  </thead>\n",
       "  <tbody>\n",
       "    <tr>\n",
       "      <th>Q5_Sentiment</th>\n",
       "      <td>0.900928</td>\n",
       "    </tr>\n",
       "  </tbody>\n",
       "</table>\n",
       "</div>"
      ],
      "text/plain": [
       "              Q5_cl_sentiment\n",
       "Q5_Sentiment         0.900928"
      ]
     },
     "execution_count": 32,
     "metadata": {},
     "output_type": "execute_result"
    }
   ],
   "source": [
    "cons1_df.loc[:, [\"Q5_Sentiment\", \"Q5_cl_sentiment\"]].corr(method='pearson').iloc[:1,1:]"
   ]
  },
  {
   "cell_type": "code",
   "execution_count": 33,
   "metadata": {},
   "outputs": [
    {
     "data": {
      "text/html": [
       "<div>\n",
       "<style>\n",
       "    .dataframe thead tr:only-child th {\n",
       "        text-align: right;\n",
       "    }\n",
       "\n",
       "    .dataframe thead th {\n",
       "        text-align: left;\n",
       "    }\n",
       "\n",
       "    .dataframe tbody tr th {\n",
       "        vertical-align: top;\n",
       "    }\n",
       "</style>\n",
       "<table border=\"1\" class=\"dataframe\">\n",
       "  <thead>\n",
       "    <tr style=\"text-align: right;\">\n",
       "      <th></th>\n",
       "      <th>Q8_cl_sentiment</th>\n",
       "    </tr>\n",
       "  </thead>\n",
       "  <tbody>\n",
       "    <tr>\n",
       "      <th>Q8_Sentiment</th>\n",
       "      <td>0.863645</td>\n",
       "    </tr>\n",
       "  </tbody>\n",
       "</table>\n",
       "</div>"
      ],
      "text/plain": [
       "              Q8_cl_sentiment\n",
       "Q8_Sentiment         0.863645"
      ]
     },
     "execution_count": 33,
     "metadata": {},
     "output_type": "execute_result"
    }
   ],
   "source": [
    "cons1_df.loc[:, [\"Q8_Sentiment\", \"Q8_cl_sentiment\"]].corr(method='pearson').iloc[:1,1:]"
   ]
  },
  {
   "cell_type": "markdown",
   "metadata": {},
   "source": [
    "A rather good agreement between the polarity score of raw and filtered/cleaned text, especially for question 4 and 5."
   ]
  },
  {
   "cell_type": "markdown",
   "metadata": {},
   "source": [
    "Let's visualise how the polarity score changes for the individual answers."
   ]
  },
  {
   "cell_type": "code",
   "execution_count": 190,
   "metadata": {
    "scrolled": true
   },
   "outputs": [
    {
     "data": {
      "image/png": "[encoded data removed]",
      "text/plain": [
       "<matplotlib.figure.Figure at 0x10ca072e8>"
      ]
     },
     "execution_count": 190,
     "metadata": {},
     "output_type": "execute_result"
    }
   ],
   "source": [
    "fig = plt.figure()\n",
    "plt.scatter(cons1_df['Q1_Sentiment'], cons1_df['Q1_cl_sentiment'])\n",
    "fig.suptitle('Sentiment Analysis of Q1', fontsize=20)\n",
    "plt.xlabel('Raw Text', fontsize=18)\n",
    "plt.ylabel('Filtered Text', fontsize=16)\n",
    "fig"
   ]
  },
  {
   "cell_type": "code",
   "execution_count": 191,
   "metadata": {},
   "outputs": [
    {
     "data": {
      "image/png": "[encoded data removed]",
      "text/plain": [
       "<matplotlib.figure.Figure at 0x10c9c8f60>"
      ]
     },
     "execution_count": 191,
     "metadata": {},
     "output_type": "execute_result"
    }
   ],
   "source": [
    "fig = plt.figure()\n",
    "plt.scatter(cons1_df['Q4_Sentiment'], cons1_df['Q4_cl_sentiment'])\n",
    "fig.suptitle('Sentiment Analysis of Q4', fontsize=20)\n",
    "plt.xlabel('Raw Text', fontsize=18)\n",
    "plt.ylabel('Filtered Text', fontsize=16)\n",
    "fig"
   ]
  },
  {
   "cell_type": "code",
   "execution_count": 192,
   "metadata": {},
   "outputs": [
    {
     "data": {
      "image/png": "[encoded data removed]",
      "text/plain": [
       "<matplotlib.figure.Figure at 0x10ca1d630>"
      ]
     },
     "execution_count": 192,
     "metadata": {},
     "output_type": "execute_result"
    }
   ],
   "source": [
    "fig = plt.figure()\n",
    "plt.scatter(cons1_df['Q5_Sentiment'], cons1_df['Q5_cl_sentiment'])\n",
    "fig.suptitle('Sentiment Analysis of Q5', fontsize=20)\n",
    "plt.xlabel('Raw Text', fontsize=18)\n",
    "plt.ylabel('Filtered Text', fontsize=16)\n",
    "fig"
   ]
  },
  {
   "cell_type": "code",
   "execution_count": 193,
   "metadata": {},
   "outputs": [
    {
     "data": {
      "image/png": "[encoded data removed]",
      "text/plain": [
       "<matplotlib.figure.Figure at 0x10ed1b588>"
      ]
     },
     "execution_count": 193,
     "metadata": {},
     "output_type": "execute_result"
    }
   ],
   "source": [
    "fig = plt.figure()\n",
    "plt.scatter(cons1_df['Q8_Sentiment'], cons1_df['Q8_cl_sentiment'])\n",
    "fig.suptitle('Sentiment Analysis of Q8', fontsize=20)\n",
    "plt.xlabel('Raw Text', fontsize=18)\n",
    "plt.ylabel('Filtered Text', fontsize=16)\n",
    "fig"
   ]
  },
  {
   "cell_type": "markdown",
   "metadata": {},
   "source": [
    "There seem to be quite a few answers that get an opposite sentiment score (from negative to positive, and vice versa) if the text is cleaned/filtered before analysis vs it is left raw.\n",
    "\n",
    "In particular, more negative scores tend to become positive after text cleaning. Could be due to the removal of negation-related words (captured in the default stop-word set)?"
   ]
  },
  {
   "cell_type": "code",
   "execution_count": 95,
   "metadata": {},
   "outputs": [
    {
     "name": "stdout",
     "output_type": "stream",
     "text": [
      "     Q1_Sentiment  Q1_cl_sentiment\n",
      "3   -0.4585        0.5719         \n",
      "7    0.1887       -0.7193         \n",
      "10   0.9337        0.8965         \n",
      "11   0.8657        0.9764         \n",
      "12  -0.1513        0.7003         \n",
      "332 -0.3089        0.4019         \n",
      "473  0.0000        0.0000         \n",
      "855  0.9750        0.9897         \n",
      "932 -0.4503        0.1531         \n"
     ]
    }
   ],
   "source": [
    "print(cons1_df.loc[[3,7, 10, 11, 12, 332, 473, 855, 932], [\"Q1_Sentiment\", \"Q1_cl_sentiment\"]])"
   ]
  },
  {
   "cell_type": "code",
   "execution_count": 97,
   "metadata": {
    "collapsed": true
   },
   "outputs": [],
   "source": [
    "pd.options.display.max_rows\n",
    "pd.set_option('display.max_colwidth', -1)\n",
    "\n",
    "cons1_df.iloc[[3,7,10, 11, 12, 332, 473, 855, 932], [40]];"
   ]
  },
  {
   "cell_type": "code",
   "execution_count": 99,
   "metadata": {
    "collapsed": true
   },
   "outputs": [],
   "source": [
    "# Save dataset\n",
    "\n",
    "cons1_df.to_csv('/Users/alessia/Documents/DataScience/NLP_Project/Outputs/cons1_cleantext_SA_df.csv', encoding='utf-8')"
   ]
  },
  {
   "cell_type": "code",
   "execution_count": null,
   "metadata": {
    "collapsed": true
   },
   "outputs": [],
   "source": []
  }
 ],
 "metadata": {
  "kernelspec": {
   "display_name": "Python 3",
   "language": "python",
   "name": "python3"
  },
  "language_info": {
   "codemirror_mode": {
    "name": "ipython",
    "version": 3
   },
   "file_extension": ".py",
   "mimetype": "text/x-python",
   "name": "python",
   "nbconvert_exporter": "python",
   "pygments_lexer": "ipython3",
   "version": "3.6.3"
  }
 },
 "nbformat": 4,
 "nbformat_minor": 2
}
