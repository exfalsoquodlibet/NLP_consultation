{
 "cells": [
  {
   "cell_type": "markdown",
   "metadata": {},
   "source": [
    "In this script, we will explore the distribution of participants according to main characteristics.\n",
    "\n",
    "The aim is to use stratified sampling instead of random sampling when splitting the original dataset into training and testing set for classification."
   ]
  },
  {
   "cell_type": "markdown",
   "metadata": {},
   "source": [
    "#### 1. Imports and Set Up"
   ]
  },
  {
   "cell_type": "code",
   "execution_count": 114,
   "metadata": {
    "collapsed": true
   },
   "outputs": [],
   "source": [
    "import os\n",
    "import pandas as pd\n",
    "import numpy as np\n",
    "\n",
    "#### Set up working directory\n",
    "\n",
    "cwd = os.chdir('/Users/alessia/Documents/DataScience/NLP_Project/Outputs')"
   ]
  },
  {
   "cell_type": "markdown",
   "metadata": {},
   "source": [
    "#### 2. Get Data"
   ]
  },
  {
   "cell_type": "code",
   "execution_count": 115,
   "metadata": {
    "collapsed": true
   },
   "outputs": [],
   "source": [
    "# Read in data (note header is spread over two rows)\n",
    "\n",
    "cons1_df = pd.read_csv(\"cons1_df.csv\")"
   ]
  },
  {
   "cell_type": "code",
   "execution_count": 116,
   "metadata": {},
   "outputs": [
    {
     "name": "stdout",
     "output_type": "stream",
     "text": [
      "0 = Unnamed: 0\n",
      "1 = Respondent ID\n",
      "2 = Collector ID\n",
      "3 = Start Date\n",
      "4 = End Date\n",
      "5 = IP Address\n",
      "6 = Email Address\n",
      "7 = First Name\n",
      "8 = Last Name\n",
      "9 = Custom Data 1\n",
      "10 = Are you responding on behalf of an organisation, or as an individual?Response\n",
      "11 = If you are responding on behalf of an organisation, please provide details below. Organisation name\n",
      "12 = If you are responding on behalf of an organisation, please provide details below. Contact name\n",
      "13 = If you are responding on behalf of an organisation, please provide details below. Email address\n",
      "14 = If you are responding on behalf of an organisation, please provide details below. Telephone number\n",
      "15 = If you are responding as an individual, please provide details. Name\n",
      "16 = If you are responding as an individual, please provide details. Email address\n",
      "17 = If you are responding as an individual, please provide details. Telephone number\n",
      "18 = Public sectorResponse\n",
      "19 = Public sectorOther public sector (please specify)\n",
      "20 = Private sectorResponse\n",
      "21 = Private sectorOther private sector (please specify)\n",
      "22 = Other sectorsResponse\n",
      "23 = Other sectorsOther (please specify)\n",
      "24 = What are your main uses of population and housing statistics? (Tick all that apply)Bidding for funds\n",
      "25 = What are your main uses of population and housing statistics? (Tick all that apply)Policy development\n",
      "26 = What are your main uses of population and housing statistics? (Tick all that apply)Policy monitoring and evaluation\n",
      "27 = What are your main uses of population and housing statistics? (Tick all that apply)Research - academic\n",
      "28 = What are your main uses of population and housing statistics? (Tick all that apply)Research - family history\n",
      "29 = What are your main uses of population and housing statistics? (Tick all that apply)Research - marketing\n",
      "30 = What are your main uses of population and housing statistics? (Tick all that apply)Research - policy\n",
      "31 = What are your main uses of population and housing statistics? (Tick all that apply)Research - social\n",
      "32 = What are your main uses of population and housing statistics? (Tick all that apply)Research - social history\n",
      "33 = What are your main uses of population and housing statistics? (Tick all that apply)Resource allocation\n",
      "34 = What are your main uses of population and housing statistics? (Tick all that apply)Service planning and delivery\n",
      "35 = What are your main uses of population and housing statistics? (Tick all that apply)Bidding for funds.1\n",
      "36 = What are your main uses of population and housing statistics? (Tick all that apply)Other planning purposes\n",
      "37 = What are your main uses of population and housing statistics? (Tick all that apply)Other research and analysis\n",
      "38 = What are your main uses of population and housing statistics? (Tick all that apply)Statistics and analysis\n",
      "39 = What are your main uses of population and housing statistics? (Tick all that apply)Other (please specify)\n",
      "40 = 1. What are your views of the different census methods described in the consultation document?Open-Ended Response\n",
      "41 = 2. Please specify any significant uses of population and housing statistics that we have not already identified. Open-Ended Response\n",
      "42 = 3. Please specify any significant additional benefits of population and housing statistics that we have not already identified. Open-Ended Response\n",
      "43 = 4. What would the impact be if the most detailed statistics for very small geographic areas and small population groups were no longer available? High, medium, low or no impact? Response\n",
      "44 = 4. What would the impact be if the most detailed statistics for very small geographic areas and small population groups were no longer available? High, medium, low or no impact? <b>4. 1. If you have answered high or medium impact, please give further information.</b>\n",
      "45 = 5. What would the additional benefit be if more frequent (i.e. annual) statistics about population characteristics were available for areas like local authorities and electoral wards? High, medium, low or no additional benefit?Response\n",
      "46 = 5. What would the additional benefit be if more frequent (i.e. annual) statistics about population characteristics were available for areas like local authorities and electoral wards? High, medium, low or no additional benefit?<b>5. 1. If you have answered high or medium impact, please give further information.</b>\n",
      "47 = 6. Please specify any significant uses of census information for historical research that we have not already identified.Open-Ended Response\n",
      "48 = 7. What advantages or opportunities for genealogical or historical research can you see from a move to a solution based on archiving administrative data sources?Open-Ended Response\n",
      "49 = 8. What are your views of the risks of each census approach and how they might be managed?Open-Ended Response\n",
      "50 = 9. Are there any other issues that you believe we should be taking into account?Open-Ended Response\n"
     ]
    },
    {
     "data": {
      "text/plain": [
       "[None,\n",
       " None,\n",
       " None,\n",
       " None,\n",
       " None,\n",
       " None,\n",
       " None,\n",
       " None,\n",
       " None,\n",
       " None,\n",
       " None,\n",
       " None,\n",
       " None,\n",
       " None,\n",
       " None,\n",
       " None,\n",
       " None,\n",
       " None,\n",
       " None,\n",
       " None,\n",
       " None,\n",
       " None,\n",
       " None,\n",
       " None,\n",
       " None,\n",
       " None,\n",
       " None,\n",
       " None,\n",
       " None,\n",
       " None,\n",
       " None,\n",
       " None,\n",
       " None,\n",
       " None,\n",
       " None,\n",
       " None,\n",
       " None,\n",
       " None,\n",
       " None,\n",
       " None,\n",
       " None,\n",
       " None,\n",
       " None,\n",
       " None,\n",
       " None,\n",
       " None,\n",
       " None,\n",
       " None,\n",
       " None,\n",
       " None,\n",
       " None]"
      ]
     },
     "execution_count": 116,
     "metadata": {},
     "output_type": "execute_result"
    }
   ],
   "source": [
    "# Explore data\n",
    "\n",
    "[print(str(num) + ' = ' + question) for num, question in enumerate(cons1_df.columns)]"
   ]
  },
  {
   "cell_type": "code",
   "execution_count": 117,
   "metadata": {
    "collapsed": true
   },
   "outputs": [],
   "source": [
    "# Key characteristics seem to be in columns:\n",
    "# 10 organisation vs. individual\n",
    "# 18 Public sector (also check 19)\n",
    "# 20 Private sector (also check 21)\n",
    "# 22 Other sectors\n",
    "\n",
    "# Secondary characteristics we may want to look at:\n",
    "# 24-39 Type of use of pop and housing statstics"
   ]
  },
  {
   "cell_type": "markdown",
   "metadata": {},
   "source": [
    "#### 3. Explore distribution of main characteristics"
   ]
  },
  {
   "cell_type": "code",
   "execution_count": 118,
   "metadata": {
    "scrolled": true
   },
   "outputs": [
    {
     "name": "stdout",
     "output_type": "stream",
     "text": [
      "Number of NaN: 23\n",
      "Individual      811\n",
      "Organisation    274\n",
      "Name: Are you responding on behalf of an organisation, or as an individual?Response, dtype: int64\n"
     ]
    }
   ],
   "source": [
    "# 10 = Are you responding on behalf of an organisation, or as an individual?Response\n",
    "\n",
    "print(\"Number of NaN: {}\".format(cons1_df.iloc[:, 10].isnull().sum()))\n",
    "print(cons1_df.iloc[:, 10].value_counts())"
   ]
  },
  {
   "cell_type": "code",
   "execution_count": 119,
   "metadata": {},
   "outputs": [
    {
     "name": "stdout",
     "output_type": "stream",
     "text": [
      "Number of NaN in Public sector: 947\n",
      "Local or sub-national government           119\n",
      "Central government department or agency     21\n",
      "University                                  14\n",
      "Health                                       5\n",
      "School or college                            2\n",
      "Name: Public sectorResponse, dtype: int64\n",
      "Number of other Public sectors: 27\n",
      "Parish Council                                                                                                                                                                        2\n",
      "town and parish councils                                                                                                                                                              2\n",
      "Higher Education administration                                                                                                                                                       1\n",
      "Non-Departmental Public Body                                                                                                                                                          1\n",
      "Independent body established by the Welsh Language (Wales) Measure 2011                                                                                                               1\n",
      "Public-funded support organisation for local authorities and wider public sector                                                                                                      1\n",
      "parish council                                                                                                                                                                        1\n",
      "Multi cultural Local community needs and support provide in LBBD.                                                                                                                     1\n",
      "Passenger Transport Executive                                                                                                                                                         1\n",
      "Police Service                                                                                                                                                                        1\n",
      "A membership organisation, mainly (but not entirely) from the public sector e.g. 110 local authorities and 80 other local service providers.                                          1\n",
      "National academy                                                                                                                                                                      1\n",
      "Community Interst Company                                                                                                                                                             1\n",
      "Fire Service                                                                                                                                                                          1\n",
      "Economic Development organisation working with private & public stakeholders                                                                                                          1\n",
      "Welsh Government Sponsored Body                                                                                                                                                       1\n",
      "Emergency Services                                                                                                                                                                    1\n",
      "parish and town council                                                                                                                                                               1\n",
      "x                                                                                                                                                                                     1\n",
      "One Voice Wales is the official body, recognised by the Welsh Government, which represents Town and Community Councils in Wales (the equivalent to the Parish Councils in England)    1\n",
      "The Open Data User Group (ODUG) exists to help government understand the requirements of people who are using, or could use, the datasets it collects                                 1\n",
      "Emergency Service                                                                                                                                                                     1\n",
      "Local Authorities                                                                                                                                                                     1\n",
      "Public Health                                                                                                                                                                         1\n",
      "Social Housing Sector / Housing Association                                                                                                                                           1\n",
      "Name: Public sectorOther public sector (please specify), dtype: int64\n"
     ]
    }
   ],
   "source": [
    "# 18 Public Sector\n",
    "print(\"Number of NaN in Public sector: {}\".format(cons1_df.iloc[:, 18].isnull().sum()))\n",
    "print(cons1_df.iloc[:, 18].value_counts())\n",
    "\n",
    "# 19 Public Sector\n",
    "print(\"Number of other Public sectors: {}\".format(cons1_df.iloc[:, 19].count()))\n",
    "print(cons1_df.iloc[:, 19].value_counts())\n",
    "\n",
    "\n",
    "# Could combine this into one variable call \"Public Sector\" (1 / 0) and another one \"Public sector type\" \n",
    "#(Local or sub-national government, Central government department or agency, University, Health, School or college, Other)"
   ]
  },
  {
   "cell_type": "code",
   "execution_count": 120,
   "metadata": {},
   "outputs": [
    {
     "name": "stdout",
     "output_type": "stream",
     "text": [
      "Number of NaN in Private Sector: 1098\n",
      "Service industry     3\n",
      "Manufacturing        3\n",
      "University           2\n",
      "Health               1\n",
      "School or college    1\n",
      "Name: Private sectorResponse, dtype: int64\n",
      "Number of other Private sectors: 18\n",
      "Housing Provision                                                                                                                                        1\n",
      "Professional Body                                                                                                                                        1\n",
      "Genealogy                                                                                                                                                1\n",
      "Media Research                                                                                                                                           1\n",
      "Housing                                                                                                                                                  1\n",
      "market and social research                                                                                                                               1\n",
      "Market Research                                                                                                                                          1\n",
      "Market & Social Research industry                                                                                                                        1\n",
      "Multi cultural Local community needs and support services for community.                                                                                 1\n",
      "x                                                                                                                                                        1\n",
      "Consumer information management                                                                                                                          1\n",
      "Marketing Services                                                                                                                                       1\n",
      "IT data and software solutions                                                                                                                           1\n",
      "Consultancy                                                                                                                                              1\n",
      "The Open Data User Group (ODUG) exists to help government understand the requirements of people who are using, or could use, the datasets it collects    1\n",
      "Planning, development, regeneration consultancy                                                                                                          1\n",
      "Public Transport                                                                                                                                         1\n",
      "Business / Information solutions                                                                                                                         1\n",
      "Name: Private sectorOther private sector (please specify), dtype: int64\n"
     ]
    }
   ],
   "source": [
    "# 20 Private Sector\n",
    "print(\"Number of NaN in Private Sector: {}\".format(cons1_df.iloc[:, 20].isnull().sum()))\n",
    "print(cons1_df.iloc[:, 20].value_counts())\n",
    "\n",
    "# 21 Private Sector\n",
    "print(\"Number of other Private sectors: {}\".format(cons1_df.iloc[:, 21].count()))\n",
    "print(cons1_df.iloc[:, 21].value_counts())\n"
   ]
  },
  {
   "cell_type": "code",
   "execution_count": 121,
   "metadata": {},
   "outputs": [
    {
     "name": "stdout",
     "output_type": "stream",
     "text": [
      "Number of NaN: 1051\n",
      "Voluntary / Community / Non-profit    51\n",
      "Media                                  6\n",
      "Name: Other sectorsResponse, dtype: int64\n"
     ]
    }
   ],
   "source": [
    "# 18 Other Sectors\n",
    "print(\"Number of NaN: {}\".format(cons1_df.iloc[:, 22].isnull().sum()))\n",
    "print(cons1_df.iloc[:, 22].value_counts())"
   ]
  },
  {
   "cell_type": "code",
   "execution_count": 122,
   "metadata": {
    "collapsed": true
   },
   "outputs": [],
   "source": [
    "# Create a new dummy variable that tracks whether the record reported to be from Public Sector\n",
    "\n",
    "cond_PubSec = cons1_df.iloc[:,18].notnull() | cons1_df.iloc[:,19].notnull()\n",
    "\n",
    "cons1_df['PublicSector'] = [int(val) for val in cond_PubSec]"
   ]
  },
  {
   "cell_type": "code",
   "execution_count": 123,
   "metadata": {
    "scrolled": true
   },
   "outputs": [
    {
     "data": {
      "text/html": [
       "<div>\n",
       "<style>\n",
       "    .dataframe thead tr:only-child th {\n",
       "        text-align: right;\n",
       "    }\n",
       "\n",
       "    .dataframe thead th {\n",
       "        text-align: left;\n",
       "    }\n",
       "\n",
       "    .dataframe tbody tr th {\n",
       "        vertical-align: top;\n",
       "    }\n",
       "</style>\n",
       "<table border=\"1\" class=\"dataframe\">\n",
       "  <thead>\n",
       "    <tr style=\"text-align: right;\">\n",
       "      <th></th>\n",
       "      <th>Public sectorResponse</th>\n",
       "      <th>Public sectorOther public sector (please specify)</th>\n",
       "      <th>PublicSector</th>\n",
       "    </tr>\n",
       "  </thead>\n",
       "  <tbody>\n",
       "    <tr>\n",
       "      <th>0</th>\n",
       "      <td>NaN</td>\n",
       "      <td>NaN</td>\n",
       "      <td>0</td>\n",
       "    </tr>\n",
       "    <tr>\n",
       "      <th>1</th>\n",
       "      <td>NaN</td>\n",
       "      <td>NaN</td>\n",
       "      <td>0</td>\n",
       "    </tr>\n",
       "    <tr>\n",
       "      <th>2</th>\n",
       "      <td>NaN</td>\n",
       "      <td>NaN</td>\n",
       "      <td>0</td>\n",
       "    </tr>\n",
       "    <tr>\n",
       "      <th>3</th>\n",
       "      <td>NaN</td>\n",
       "      <td>NaN</td>\n",
       "      <td>0</td>\n",
       "    </tr>\n",
       "    <tr>\n",
       "      <th>4</th>\n",
       "      <td>Local or sub-national government</td>\n",
       "      <td>NaN</td>\n",
       "      <td>1</td>\n",
       "    </tr>\n",
       "  </tbody>\n",
       "</table>\n",
       "</div>"
      ],
      "text/plain": [
       "              Public sectorResponse  \\\n",
       "0                               NaN   \n",
       "1                               NaN   \n",
       "2                               NaN   \n",
       "3                               NaN   \n",
       "4  Local or sub-national government   \n",
       "\n",
       "  Public sectorOther public sector (please specify)  PublicSector  \n",
       "0                                               NaN             0  \n",
       "1                                               NaN             0  \n",
       "2                                               NaN             0  \n",
       "3                                               NaN             0  \n",
       "4                                               NaN             1  "
      ]
     },
     "execution_count": 123,
     "metadata": {},
     "output_type": "execute_result"
    }
   ],
   "source": [
    "# check\n",
    "cons1_df.iloc[:, [18, 19, -1]].head()"
   ]
  },
  {
   "cell_type": "code",
   "execution_count": 124,
   "metadata": {
    "collapsed": true
   },
   "outputs": [],
   "source": [
    "# Create a new dummy variable that tracks whether the record reported to be from Private Sector\n",
    "\n",
    "cond_PrvSec = cons1_df.iloc[:,20].notnull() | cons1_df.iloc[:,21].notnull()\n",
    "\n",
    "cons1_df['PrivateSector'] = [int(val) for val in cond_PrvSec]"
   ]
  },
  {
   "cell_type": "code",
   "execution_count": 125,
   "metadata": {
    "scrolled": true
   },
   "outputs": [
    {
     "data": {
      "text/html": [
       "<div>\n",
       "<style>\n",
       "    .dataframe thead tr:only-child th {\n",
       "        text-align: right;\n",
       "    }\n",
       "\n",
       "    .dataframe thead th {\n",
       "        text-align: left;\n",
       "    }\n",
       "\n",
       "    .dataframe tbody tr th {\n",
       "        vertical-align: top;\n",
       "    }\n",
       "</style>\n",
       "<table border=\"1\" class=\"dataframe\">\n",
       "  <thead>\n",
       "    <tr style=\"text-align: right;\">\n",
       "      <th></th>\n",
       "      <th>Private sectorResponse</th>\n",
       "      <th>Private sectorOther private sector (please specify)</th>\n",
       "      <th>PrivateSector</th>\n",
       "    </tr>\n",
       "  </thead>\n",
       "  <tbody>\n",
       "    <tr>\n",
       "      <th>0</th>\n",
       "      <td>NaN</td>\n",
       "      <td>NaN</td>\n",
       "      <td>0</td>\n",
       "    </tr>\n",
       "    <tr>\n",
       "      <th>1</th>\n",
       "      <td>NaN</td>\n",
       "      <td>NaN</td>\n",
       "      <td>0</td>\n",
       "    </tr>\n",
       "    <tr>\n",
       "      <th>2</th>\n",
       "      <td>NaN</td>\n",
       "      <td>NaN</td>\n",
       "      <td>0</td>\n",
       "    </tr>\n",
       "    <tr>\n",
       "      <th>3</th>\n",
       "      <td>NaN</td>\n",
       "      <td>Market Research</td>\n",
       "      <td>1</td>\n",
       "    </tr>\n",
       "    <tr>\n",
       "      <th>4</th>\n",
       "      <td>NaN</td>\n",
       "      <td>NaN</td>\n",
       "      <td>0</td>\n",
       "    </tr>\n",
       "  </tbody>\n",
       "</table>\n",
       "</div>"
      ],
      "text/plain": [
       "  Private sectorResponse Private sectorOther private sector (please specify)  \\\n",
       "0                    NaN                                                NaN    \n",
       "1                    NaN                                                NaN    \n",
       "2                    NaN                                                NaN    \n",
       "3                    NaN                                    Market Research    \n",
       "4                    NaN                                                NaN    \n",
       "\n",
       "   PrivateSector  \n",
       "0              0  \n",
       "1              0  \n",
       "2              0  \n",
       "3              1  \n",
       "4              0  "
      ]
     },
     "execution_count": 125,
     "metadata": {},
     "output_type": "execute_result"
    }
   ],
   "source": [
    "# check\n",
    "cons1_df.iloc[:, [20, 21, -1]].head()"
   ]
  },
  {
   "cell_type": "code",
   "execution_count": 126,
   "metadata": {
    "collapsed": true
   },
   "outputs": [],
   "source": [
    "# Create a new dummy variable that tracks whether the record reported to be from Other Sectors (neither Public nor Public)\n",
    "\n",
    "cond_OthSec = cons1_df.iloc[:,22].notnull()\n",
    "\n",
    "cons1_df['OtherSectors'] = [int(val) for val in cond_OthSec]"
   ]
  },
  {
   "cell_type": "code",
   "execution_count": 127,
   "metadata": {},
   "outputs": [
    {
     "data": {
      "text/html": [
       "<div>\n",
       "<style>\n",
       "    .dataframe thead tr:only-child th {\n",
       "        text-align: right;\n",
       "    }\n",
       "\n",
       "    .dataframe thead th {\n",
       "        text-align: left;\n",
       "    }\n",
       "\n",
       "    .dataframe tbody tr th {\n",
       "        vertical-align: top;\n",
       "    }\n",
       "</style>\n",
       "<table border=\"1\" class=\"dataframe\">\n",
       "  <thead>\n",
       "    <tr style=\"text-align: right;\">\n",
       "      <th></th>\n",
       "      <th>Other sectorsResponse</th>\n",
       "      <th>OtherSectors</th>\n",
       "    </tr>\n",
       "  </thead>\n",
       "  <tbody>\n",
       "    <tr>\n",
       "      <th>0</th>\n",
       "      <td>NaN</td>\n",
       "      <td>0</td>\n",
       "    </tr>\n",
       "    <tr>\n",
       "      <th>1</th>\n",
       "      <td>NaN</td>\n",
       "      <td>0</td>\n",
       "    </tr>\n",
       "    <tr>\n",
       "      <th>2</th>\n",
       "      <td>NaN</td>\n",
       "      <td>0</td>\n",
       "    </tr>\n",
       "    <tr>\n",
       "      <th>3</th>\n",
       "      <td>NaN</td>\n",
       "      <td>0</td>\n",
       "    </tr>\n",
       "    <tr>\n",
       "      <th>4</th>\n",
       "      <td>NaN</td>\n",
       "      <td>0</td>\n",
       "    </tr>\n",
       "    <tr>\n",
       "      <th>5</th>\n",
       "      <td>Voluntary / Community / Non-profit</td>\n",
       "      <td>1</td>\n",
       "    </tr>\n",
       "    <tr>\n",
       "      <th>6</th>\n",
       "      <td>NaN</td>\n",
       "      <td>0</td>\n",
       "    </tr>\n",
       "    <tr>\n",
       "      <th>7</th>\n",
       "      <td>NaN</td>\n",
       "      <td>0</td>\n",
       "    </tr>\n",
       "    <tr>\n",
       "      <th>8</th>\n",
       "      <td>NaN</td>\n",
       "      <td>0</td>\n",
       "    </tr>\n",
       "    <tr>\n",
       "      <th>9</th>\n",
       "      <td>NaN</td>\n",
       "      <td>0</td>\n",
       "    </tr>\n",
       "  </tbody>\n",
       "</table>\n",
       "</div>"
      ],
      "text/plain": [
       "                Other sectorsResponse  OtherSectors\n",
       "0                                 NaN             0\n",
       "1                                 NaN             0\n",
       "2                                 NaN             0\n",
       "3                                 NaN             0\n",
       "4                                 NaN             0\n",
       "5  Voluntary / Community / Non-profit             1\n",
       "6                                 NaN             0\n",
       "7                                 NaN             0\n",
       "8                                 NaN             0\n",
       "9                                 NaN             0"
      ]
     },
     "execution_count": 127,
     "metadata": {},
     "output_type": "execute_result"
    }
   ],
   "source": [
    "# check\n",
    "cons1_df.iloc[:, [22, -1]].head(10)"
   ]
  },
  {
   "cell_type": "code",
   "execution_count": 128,
   "metadata": {},
   "outputs": [
    {
     "data": {
      "text/html": [
       "<div>\n",
       "<style>\n",
       "    .dataframe thead tr:only-child th {\n",
       "        text-align: right;\n",
       "    }\n",
       "\n",
       "    .dataframe thead th {\n",
       "        text-align: left;\n",
       "    }\n",
       "\n",
       "    .dataframe tbody tr th {\n",
       "        vertical-align: top;\n",
       "    }\n",
       "</style>\n",
       "<table border=\"1\" class=\"dataframe\">\n",
       "  <thead>\n",
       "    <tr style=\"text-align: right;\">\n",
       "      <th></th>\n",
       "      <th>OtherSectors</th>\n",
       "      <th>0</th>\n",
       "      <th>1</th>\n",
       "      <th>All</th>\n",
       "    </tr>\n",
       "    <tr>\n",
       "      <th>PublicSector</th>\n",
       "      <th>PrivateSector</th>\n",
       "      <th></th>\n",
       "      <th></th>\n",
       "      <th></th>\n",
       "    </tr>\n",
       "  </thead>\n",
       "  <tbody>\n",
       "    <tr>\n",
       "      <th rowspan=\"2\" valign=\"top\">0</th>\n",
       "      <th>0</th>\n",
       "      <td>849</td>\n",
       "      <td>53</td>\n",
       "      <td>902</td>\n",
       "    </tr>\n",
       "    <tr>\n",
       "      <th>1</th>\n",
       "      <td>22</td>\n",
       "      <td>1</td>\n",
       "      <td>23</td>\n",
       "    </tr>\n",
       "    <tr>\n",
       "      <th rowspan=\"2\" valign=\"top\">1</th>\n",
       "      <th>0</th>\n",
       "      <td>177</td>\n",
       "      <td>1</td>\n",
       "      <td>178</td>\n",
       "    </tr>\n",
       "    <tr>\n",
       "      <th>1</th>\n",
       "      <td>3</td>\n",
       "      <td>2</td>\n",
       "      <td>5</td>\n",
       "    </tr>\n",
       "    <tr>\n",
       "      <th>All</th>\n",
       "      <th></th>\n",
       "      <td>1051</td>\n",
       "      <td>57</td>\n",
       "      <td>1108</td>\n",
       "    </tr>\n",
       "  </tbody>\n",
       "</table>\n",
       "</div>"
      ],
      "text/plain": [
       "OtherSectors                   0   1   All\n",
       "PublicSector PrivateSector                \n",
       "0            0               849  53   902\n",
       "             1                22   1    23\n",
       "1            0               177   1   178\n",
       "             1                 3   2     5\n",
       "All                         1051  57  1108"
      ]
     },
     "execution_count": 128,
     "metadata": {},
     "output_type": "execute_result"
    }
   ],
   "source": [
    "# Crossabs across the 3 main Sector classes\n",
    "pd.crosstab([cons1_df.iloc[:,-3], cons1_df.iloc[:,-2]], cons1_df.iloc[:,-1], margins=True)   #"
   ]
  },
  {
   "cell_type": "code",
   "execution_count": 129,
   "metadata": {
    "collapsed": true
   },
   "outputs": [],
   "source": [
    "# 7 respondents selected from more than one Sector type, so their sector class is ambiguous..."
   ]
  },
  {
   "cell_type": "markdown",
   "metadata": {},
   "source": [
    "#### 4. Get VADER polarity score for each cell text, for stratified sampling"
   ]
  },
  {
   "cell_type": "code",
   "execution_count": 130,
   "metadata": {
    "collapsed": true
   },
   "outputs": [],
   "source": [
    "cwd = os.chdir('/Users/alessia/Documents/DataScience/textconsultations/')"
   ]
  },
  {
   "cell_type": "code",
   "execution_count": 131,
   "metadata": {},
   "outputs": [
    {
     "data": {
      "text/plain": [
       "['nlpfunctions', 'tutorial', 'README.md', '.git']"
      ]
     },
     "execution_count": 131,
     "metadata": {},
     "output_type": "execute_result"
    }
   ],
   "source": [
    "os.listdir()"
   ]
  },
  {
   "cell_type": "code",
   "execution_count": 132,
   "metadata": {},
   "outputs": [
    {
     "data": {
      "text/plain": [
       "['similarities.py',\n",
       " 'textranksummary.py',\n",
       " '__init__.py',\n",
       " '__pycache__',\n",
       " 'basic_NLP_functions.py']"
      ]
     },
     "execution_count": 132,
     "metadata": {},
     "output_type": "execute_result"
    }
   ],
   "source": [
    "os.listdir('nlpfunctions')"
   ]
  },
  {
   "cell_type": "code",
   "execution_count": 133,
   "metadata": {
    "collapsed": true
   },
   "outputs": [],
   "source": [
    "import nlpfunctions.basic_NLP_functions as b_nlp"
   ]
  },
  {
   "cell_type": "code",
   "execution_count": 134,
   "metadata": {},
   "outputs": [
    {
     "data": {
      "text/plain": [
       "['POS_tagging_df',\n",
       " 'SentimentIntensityAnalyzer',\n",
       " 'TextBlob',\n",
       " 'WordNetLemmatizer',\n",
       " '__builtins__',\n",
       " '__cached__',\n",
       " '__doc__',\n",
       " '__file__',\n",
       " '__loader__',\n",
       " '__name__',\n",
       " '__package__',\n",
       " '__spec__',\n",
       " 'analyser',\n",
       " 'break_words_df',\n",
       " 'classify_subjectivity_df',\n",
       " 'fix_neg_aux_df',\n",
       " 'get_sentiment_score_df',\n",
       " 'get_subjectivity_df',\n",
       " 'get_wordnet_pos',\n",
       " 'lemmatise_df',\n",
       " 'list2string_df',\n",
       " 'np',\n",
       " 'pd',\n",
       " 'pos_tag',\n",
       " 'remove_objective_sents_df',\n",
       " 'remove_punctuation_df',\n",
       " 'remove_stopwords_df',\n",
       " 'sent_tokenise_df',\n",
       " 'sent_tokenize',\n",
       " 'stopwords',\n",
       " 'string',\n",
       " 'word_detokenise_sent_df',\n",
       " 'word_tokenise_df',\n",
       " 'word_tokenize',\n",
       " 'wordnet',\n",
       " 'wordnet_lemmatiser']"
      ]
     },
     "execution_count": 134,
     "metadata": {},
     "output_type": "execute_result"
    }
   ],
   "source": [
    "dir(b_nlp)"
   ]
  },
  {
   "cell_type": "code",
   "execution_count": 135,
   "metadata": {
    "collapsed": true
   },
   "outputs": [],
   "source": [
    "# rename relevant question\n",
    "idx_Q1 = cons1_df.columns.get_loc(str([col for col in cons1_df if 'census methods' in str(col)][0]))"
   ]
  },
  {
   "cell_type": "code",
   "execution_count": 136,
   "metadata": {},
   "outputs": [
    {
     "data": {
      "text/plain": [
       "'1. What are your views of the different census methods described in the consultation document?Open-Ended Response'"
      ]
     },
     "execution_count": 136,
     "metadata": {},
     "output_type": "execute_result"
    }
   ],
   "source": [
    "cons1_df.columns[idx_Q1]"
   ]
  },
  {
   "cell_type": "code",
   "execution_count": 137,
   "metadata": {
    "collapsed": true
   },
   "outputs": [],
   "source": [
    "cons1_df.rename(columns = {'1. What are your views of the different census methods described in the consultation document?Open-Ended Response':'Q1_census_methods'}, inplace = True) "
   ]
  },
  {
   "cell_type": "markdown",
   "metadata": {},
   "source": [
    "Sentence-tokenise text"
   ]
  },
  {
   "cell_type": "code",
   "execution_count": 138,
   "metadata": {
    "collapsed": true,
    "scrolled": true
   },
   "outputs": [],
   "source": [
    "cons1_df['Q1_census_methods']; #ok"
   ]
  },
  {
   "cell_type": "code",
   "execution_count": 139,
   "metadata": {},
   "outputs": [
    {
     "name": "stdout",
     "output_type": "stream",
     "text": [
      "Number of NaN in Q1: 372\n"
     ]
    },
    {
     "data": {
      "text/plain": [
       "(1108, 54)"
      ]
     },
     "execution_count": 139,
     "metadata": {},
     "output_type": "execute_result"
    }
   ],
   "source": [
    "print(\"Number of NaN in Q1: {}\".format(cons1_df['Q1_census_methods'].isnull().sum()))  #372 NaN\n",
    "cons1_df.shape"
   ]
  },
  {
   "cell_type": "code",
   "execution_count": 140,
   "metadata": {},
   "outputs": [
    {
     "data": {
      "text/plain": [
       "pandas.core.series.Series"
      ]
     },
     "execution_count": 140,
     "metadata": {},
     "output_type": "execute_result"
    }
   ],
   "source": [
    "type(cons1_df['Q1_census_methods'])"
   ]
  },
  {
   "cell_type": "code",
   "execution_count": 141,
   "metadata": {},
   "outputs": [
    {
     "data": {
      "text/plain": [
       "0                                                  NaN\n",
       "1                                                  NaN\n",
       "2                                                  NaN\n",
       "3    Moving to a primarily online census: an inevit...\n",
       "4    A regular full population census is absolutely...\n",
       "Name: Q1_census_methods, dtype: object"
      ]
     },
     "execution_count": 141,
     "metadata": {},
     "output_type": "execute_result"
    }
   ],
   "source": [
    "cons1_df['Q1_census_methods'].head()"
   ]
  },
  {
   "cell_type": "code",
   "execution_count": 142,
   "metadata": {},
   "outputs": [
    {
     "name": "stdout",
     "output_type": "stream",
     "text": [
      "<class 'float'>\n",
      "<class 'float'>\n",
      "<class 'float'>\n",
      "<class 'str'>\n",
      "<class 'str'>\n"
     ]
    },
    {
     "data": {
      "text/plain": [
       "[None, None, None, None, None]"
      ]
     },
     "execution_count": 142,
     "metadata": {},
     "output_type": "execute_result"
    }
   ],
   "source": [
    "[print(type(cell)) for cell in cons1_df['Q1_census_methods'].head()]"
   ]
  },
  {
   "cell_type": "code",
   "execution_count": 170,
   "metadata": {
    "scrolled": true
   },
   "outputs": [],
   "source": [
    "#cons1_df['Q1_census_methods'].apply(lambda x : b_nlp.sent_tokenise_df(x))"
   ]
  },
  {
   "cell_type": "code",
   "execution_count": 145,
   "metadata": {
    "collapsed": true
   },
   "outputs": [],
   "source": [
    "from nltk.tokenize import sent_tokenize\n",
    "import pandas as pd\n",
    "\n",
    "def sent_tokenise_answer(INPUT) :\n",
    "    \n",
    "    \"\"\" \n",
    "    Function to sentence-tokenise answers. \n",
    "    Return a list of lists with each sublist containing an answer's sentences as strings.\n",
    "    \n",
    "    Parameters\n",
    "    ----------\n",
    "    INPUT : name of the dataframe column containing the list of sentences to be word-tokenised\n",
    "    \"\"\"\n",
    "    \n",
    "    # if no answer was provided -> return empty string list, else sent-tokenize answer\n",
    "    OUTPUT = sent_tokenize(INPUT) if (INPUT and isinstance(INPUT, str)) else list()\n",
    "            \n",
    "    return pd.Series(dict(sent_tok_text = OUTPUT))\n"
   ]
  },
  {
   "cell_type": "code",
   "execution_count": 148,
   "metadata": {},
   "outputs": [],
   "source": [
    "cons1_df['sent_tok_text'] = cons1_df['Q1_census_methods'].apply(lambda x: sent_tokenise_answer(x))"
   ]
  },
  {
   "cell_type": "code",
   "execution_count": 151,
   "metadata": {},
   "outputs": [],
   "source": [
    "cons1_df['SA_scores_sents'] = cons1_df['sent_tok_text'].apply(lambda x: b_nlp.get_sentiment_score_df(x))"
   ]
  },
  {
   "cell_type": "code",
   "execution_count": 155,
   "metadata": {},
   "outputs": [],
   "source": [
    "# take the average for each cell/text\n",
    "cons1_df['mean_SA_scores'] = cons1_df['SA_scores_sents'].apply(lambda x: np.mean(x))"
   ]
  },
  {
   "cell_type": "code",
   "execution_count": 165,
   "metadata": {},
   "outputs": [],
   "source": [
    "cons1_df['SA_polarity'] = cons1_df['mean_SA_scores'].apply(lambda x: 'pos' if x > 0 else 'neg' if x < 0 else \"\")"
   ]
  },
  {
   "cell_type": "code",
   "execution_count": 166,
   "metadata": {},
   "outputs": [
    {
     "data": {
      "text/html": [
       "<div>\n",
       "<style>\n",
       "    .dataframe thead tr:only-child th {\n",
       "        text-align: right;\n",
       "    }\n",
       "\n",
       "    .dataframe thead th {\n",
       "        text-align: left;\n",
       "    }\n",
       "\n",
       "    .dataframe tbody tr th {\n",
       "        vertical-align: top;\n",
       "    }\n",
       "</style>\n",
       "<table border=\"1\" class=\"dataframe\">\n",
       "  <thead>\n",
       "    <tr style=\"text-align: right;\">\n",
       "      <th></th>\n",
       "      <th>SA_scores_sents</th>\n",
       "      <th>mean_SA_scores</th>\n",
       "      <th>SA_polarity</th>\n",
       "    </tr>\n",
       "  </thead>\n",
       "  <tbody>\n",
       "    <tr>\n",
       "      <th>0</th>\n",
       "      <td>NaN</td>\n",
       "      <td>NaN</td>\n",
       "      <td></td>\n",
       "    </tr>\n",
       "    <tr>\n",
       "      <th>1</th>\n",
       "      <td>NaN</td>\n",
       "      <td>NaN</td>\n",
       "      <td></td>\n",
       "    </tr>\n",
       "    <tr>\n",
       "      <th>2</th>\n",
       "      <td>NaN</td>\n",
       "      <td>NaN</td>\n",
       "      <td></td>\n",
       "    </tr>\n",
       "    <tr>\n",
       "      <th>3</th>\n",
       "      <td>[0.0, -0.4585]</td>\n",
       "      <td>-0.229250</td>\n",
       "      <td>neg</td>\n",
       "    </tr>\n",
       "    <tr>\n",
       "      <th>4</th>\n",
       "      <td>[0.0, 0.3818, 0.0, 0.4404, 0.0, 0.0, 0.4404, 0...</td>\n",
       "      <td>0.257857</td>\n",
       "      <td>pos</td>\n",
       "    </tr>\n",
       "    <tr>\n",
       "      <th>5</th>\n",
       "      <td>[0.743, 0.3818, 0.4588, 0.34, 0.7845]</td>\n",
       "      <td>0.541620</td>\n",
       "      <td>pos</td>\n",
       "    </tr>\n",
       "    <tr>\n",
       "      <th>6</th>\n",
       "      <td>NaN</td>\n",
       "      <td>NaN</td>\n",
       "      <td></td>\n",
       "    </tr>\n",
       "    <tr>\n",
       "      <th>7</th>\n",
       "      <td>[0.3612, -0.743, 0.0, 0.4939, 0.0, 0.6802, -0....</td>\n",
       "      <td>0.055771</td>\n",
       "      <td>pos</td>\n",
       "    </tr>\n",
       "    <tr>\n",
       "      <th>8</th>\n",
       "      <td>[0.0, 0.3818, 0.3182, -0.6124]</td>\n",
       "      <td>0.021900</td>\n",
       "      <td>pos</td>\n",
       "    </tr>\n",
       "    <tr>\n",
       "      <th>9</th>\n",
       "      <td>[0.0, -0.3182, 0.9513, 0.631, 0.5994, 0.5994]</td>\n",
       "      <td>0.410483</td>\n",
       "      <td>pos</td>\n",
       "    </tr>\n",
       "  </tbody>\n",
       "</table>\n",
       "</div>"
      ],
      "text/plain": [
       "                                     SA_scores_sents  mean_SA_scores  \\\n",
       "0                                                NaN             NaN   \n",
       "1                                                NaN             NaN   \n",
       "2                                                NaN             NaN   \n",
       "3                                     [0.0, -0.4585]       -0.229250   \n",
       "4  [0.0, 0.3818, 0.0, 0.4404, 0.0, 0.0, 0.4404, 0...        0.257857   \n",
       "5              [0.743, 0.3818, 0.4588, 0.34, 0.7845]        0.541620   \n",
       "6                                                NaN             NaN   \n",
       "7  [0.3612, -0.743, 0.0, 0.4939, 0.0, 0.6802, -0....        0.055771   \n",
       "8                     [0.0, 0.3818, 0.3182, -0.6124]        0.021900   \n",
       "9      [0.0, -0.3182, 0.9513, 0.631, 0.5994, 0.5994]        0.410483   \n",
       "\n",
       "  SA_polarity  \n",
       "0              \n",
       "1              \n",
       "2              \n",
       "3         neg  \n",
       "4         pos  \n",
       "5         pos  \n",
       "6              \n",
       "7         pos  \n",
       "8         pos  \n",
       "9         pos  "
      ]
     },
     "execution_count": 166,
     "metadata": {},
     "output_type": "execute_result"
    }
   ],
   "source": [
    "cons1_df.iloc[:, -3:].head(10)"
   ]
  },
  {
   "cell_type": "code",
   "execution_count": 168,
   "metadata": {},
   "outputs": [
    {
     "data": {
      "text/plain": [
       "pos    535\n",
       "       440\n",
       "neg    133\n",
       "Name: SA_polarity, dtype: int64"
      ]
     },
     "execution_count": 168,
     "metadata": {},
     "output_type": "execute_result"
    }
   ],
   "source": [
    "cons1_df['SA_polarity'].value_counts()    #535 pos, 133 neg, \"\"440"
   ]
  },
  {
   "cell_type": "code",
   "execution_count": 173,
   "metadata": {},
   "outputs": [
    {
     "data": {
      "text/html": [
       "<div>\n",
       "<style>\n",
       "    .dataframe thead tr:only-child th {\n",
       "        text-align: right;\n",
       "    }\n",
       "\n",
       "    .dataframe thead th {\n",
       "        text-align: left;\n",
       "    }\n",
       "\n",
       "    .dataframe tbody tr th {\n",
       "        vertical-align: top;\n",
       "    }\n",
       "</style>\n",
       "<table border=\"1\" class=\"dataframe\">\n",
       "  <thead>\n",
       "    <tr style=\"text-align: right;\">\n",
       "      <th>Are you responding on behalf of an organisation, or as an individual?Response</th>\n",
       "      <th>Individual</th>\n",
       "      <th>Organisation</th>\n",
       "    </tr>\n",
       "    <tr>\n",
       "      <th>SA_polarity</th>\n",
       "      <th></th>\n",
       "      <th></th>\n",
       "    </tr>\n",
       "  </thead>\n",
       "  <tbody>\n",
       "    <tr>\n",
       "      <th></th>\n",
       "      <td>378</td>\n",
       "      <td>46</td>\n",
       "    </tr>\n",
       "    <tr>\n",
       "      <th>neg</th>\n",
       "      <td>99</td>\n",
       "      <td>33</td>\n",
       "    </tr>\n",
       "    <tr>\n",
       "      <th>pos</th>\n",
       "      <td>334</td>\n",
       "      <td>195</td>\n",
       "    </tr>\n",
       "  </tbody>\n",
       "</table>\n",
       "</div>"
      ],
      "text/plain": [
       "Are you responding on behalf of an organisation, or as an individual?Response  Individual  \\\n",
       "SA_polarity                                                                                 \n",
       "                                                                                      378   \n",
       "neg                                                                                    99   \n",
       "pos                                                                                   334   \n",
       "\n",
       "Are you responding on behalf of an organisation, or as an individual?Response  Organisation  \n",
       "SA_polarity                                                                                  \n",
       "                                                                                         46  \n",
       "neg                                                                                      33  \n",
       "pos                                                                                     195  "
      ]
     },
     "execution_count": 173,
     "metadata": {},
     "output_type": "execute_result"
    }
   ],
   "source": [
    "# sample 100 positive and 100 negative sentence: 30% from organisations, 70% from individuals\n",
    "pd.crosstab(cons1_df['SA_polarity'], cons1_df['Are you responding on behalf of an organisation, or as an individual?Response'])"
   ]
  },
  {
   "cell_type": "code",
   "execution_count": 183,
   "metadata": {},
   "outputs": [],
   "source": [
    "# create strata\n",
    "pos_org_cond = ((cons1_df['SA_polarity'] == 'pos') & (cons1_df['Are you responding on behalf of an organisation, or as an individual?Response'] == 'Organisation'))\n",
    "neg_org_cond = ((cons1_df['SA_polarity'] == 'neg') & (cons1_df['Are you responding on behalf of an organisation, or as an individual?Response'] == 'Organisation'))\n",
    "\n",
    "pos_ind_cond = ((cons1_df['SA_polarity'] == 'pos') & (cons1_df['Are you responding on behalf of an organisation, or as an individual?Response'] == 'Individual'))\n",
    "neg_ind_cond = ((cons1_df['SA_polarity'] == 'neg') & (cons1_df['Are you responding on behalf of an organisation, or as an individual?Response'] == 'Individual'))\n"
   ]
  },
  {
   "cell_type": "code",
   "execution_count": 188,
   "metadata": {},
   "outputs": [],
   "source": [
    "# sample sentences\n",
    "import random\n",
    "random.seed(11)\n",
    "\n",
    "pos_org_sample = cons1_df[pos_org_cond].sample(30)\n",
    "neg_org_sample = cons1_df[neg_org_cond].sample(30)\n",
    "\n",
    "pos_ind_sample = cons1_df[pos_ind_cond].sample(70)\n",
    "neg_ind_sample = cons1_df[neg_ind_cond].sample(70)"
   ]
  },
  {
   "cell_type": "code",
   "execution_count": 189,
   "metadata": {},
   "outputs": [
    {
     "name": "stdout",
     "output_type": "stream",
     "text": [
      "30\n",
      "30\n",
      "70\n",
      "70\n"
     ]
    }
   ],
   "source": [
    "print(pos_org_sample.shape[0])\n",
    "print(neg_org_sample.shape[0])\n",
    "print(pos_ind_sample.shape[0])\n",
    "print(neg_ind_sample.shape[0])"
   ]
  },
  {
   "cell_type": "code",
   "execution_count": 190,
   "metadata": {
    "collapsed": true
   },
   "outputs": [],
   "source": [
    "datas = [pos_org_sample, neg_org_sample, pos_ind_sample, neg_ind_sample]\n",
    "\n",
    "sa_q1_sample = pd.concat(datas)"
   ]
  },
  {
   "cell_type": "code",
   "execution_count": 199,
   "metadata": {},
   "outputs": [],
   "source": [
    "sa_q1_sample = sa_q1_sample.iloc[:, [1, 40, 10, -7, -6, -5, -4, -3, -2, -1]]"
   ]
  },
  {
   "cell_type": "code",
   "execution_count": 201,
   "metadata": {},
   "outputs": [],
   "source": [
    "sa_q1_sample.to_csv(\"/Users/alessia/Documents/DataScience/NLP_Project/Outputs/sa_q1_sample.csv\")"
   ]
  },
  {
   "cell_type": "code",
   "execution_count": null,
   "metadata": {
    "collapsed": true
   },
   "outputs": [],
   "source": []
  }
 ],
 "metadata": {
  "kernelspec": {
   "display_name": "Python 3",
   "language": "python",
   "name": "python3"
  },
  "language_info": {
   "codemirror_mode": {
    "name": "ipython",
    "version": 3
   },
   "file_extension": ".py",
   "mimetype": "text/x-python",
   "name": "python",
   "nbconvert_exporter": "python",
   "pygments_lexer": "ipython3",
   "version": "3.6.3"
  }
 },
 "nbformat": 4,
 "nbformat_minor": 2
}
